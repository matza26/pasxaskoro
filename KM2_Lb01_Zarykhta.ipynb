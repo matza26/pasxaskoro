{
 "cells": [
  {
   "cell_type": "markdown",
   "id": "24923444-e833-41a1-9ca2-ddd3ba98823b",
   "metadata": {},
   "source": [
    "# Лабораторная работа 1\n",
    "# Задача о падении тела. Построение графиков функций"
   ]
  },
  {
   "cell_type": "markdown",
   "id": "3889d936-f227-4445-833c-a0e100887472",
   "metadata": {},
   "source": [
    "Зарихта Матвей Дмитриевич, 21 февраля 2025"
   ]
  },
  {
   "cell_type": "markdown",
   "id": "0e3cc272-1db1-453c-9d2b-f500abc11073",
   "metadata": {},
   "source": [
    "# Задание 1.1. Задача о падении тела"
   ]
  },
  {
   "cell_type": "markdown",
   "id": "15add1f0-d0e9-4391-a7f6-534f119254cf",
   "metadata": {},
   "source": [
    "**Описание процесса**.\n",
    "Тело запущено под углом $\\alpha$ к горизонту на высоте $h_{start}$ и через время $t=T$ достигает другое тело, расположенное на расстоянии $s_{end}$ и высоте $h_{end}$.\n",
    "\n",
    "**Предположения**.\n",
    "- Тело будем считать материальной точкой массы $m$.\n",
    "- Движение запущенного тела осуществляется только под действием силы тяжести $${\\bf F} = m(0,-g),$$ где $m$ -- масса тела, $g$ -- ускорение свободного падения.\n",
    "- Сопротивлением среды пренебрегаем.\n",
    "\n",
    "**Данные**.\n",
    "- Задача рассматривается при следующих значениях параметров: $h_{start} = 1 m, h_{end} = 3 m, T = 3 s, s_{end} = 5 m$.\n",
    "- Угол запуска тела $\\alpha$ не известен.\n",
    "- Начальный момент времени движения тела полагаем равным нулю: $t = 0$.\n",
    "- Значение массы тела $m$ не повлияет на функции перемещения тела.\n",
    "\n",
    "**Задания для выполнения**.\n",
    "- $\\color{red}\\text{Определите}$ функцию перемещения тела $(s_{x}(t), s_{y}(t))$ под действием силы тяжести, где $s_{x}(t)$ и $s_{y}(t)$ -- горизонтальная и вертикальная составляющая положения тела в момент времени $t$, соответственно.\n",
    "- $\\color{red}\\text{Найдите}$ угол запуска тела $\\alpha$.\n",
    "- $\\color{red}\\text{Постройте}$ график траектории движения тела $(s_{x}(t), s_{y}(t))$ для $t \\in [0,T]$  "
   ]
  },
  {
   "cell_type": "markdown",
   "id": "c03ef208-df2f-4b49-a164-21621f2708ba",
   "metadata": {},
   "source": [
    "## Выполнение задания 1.1 "
   ]
  },
  {
   "cell_type": "markdown",
   "id": "aa1b3bca-60c1-412d-b39d-7b52fac57258",
   "metadata": {},
   "source": [
    "### Этап 1. Импортирование модулей"
   ]
  },
  {
   "cell_type": "markdown",
   "id": "7394a898-0c8f-408d-b4ce-f443ff2d2b34",
   "metadata": {},
   "source": [
    "Импортируем модуль `math` с математическими функциями из стандартной библиотеки:"
   ]
  },
  {
   "cell_type": "code",
   "execution_count": 13,
   "id": "9a207f35-5939-4b5b-985f-26e35f3011a6",
   "metadata": {},
   "outputs": [],
   "source": [
    "import math"
   ]
  },
  {
   "cell_type": "markdown",
   "id": "0a79b6e4-77e3-4b21-b44d-a462931b03dd",
   "metadata": {},
   "source": [
    "Доступ к инструментам модуля осуществляется с применением синтаксиса\n",
    "уточнения `<имя модуля>.<имя атрибута>` . Например,"
   ]
  },
  {
   "cell_type": "code",
   "execution_count": 16,
   "id": "2e914128-1986-4143-86b2-ecade1ba1056",
   "metadata": {},
   "outputs": [
    {
     "data": {
      "text/plain": [
       "1.0"
      ]
     },
     "execution_count": 16,
     "metadata": {},
     "output_type": "execute_result"
    }
   ],
   "source": [
    "math.sin(math.pi/2)"
   ]
  },
  {
   "cell_type": "markdown",
   "id": "446c0d04-b0c4-46ef-8dbe-93404c6ce11a",
   "metadata": {},
   "source": [
    "Импортируем расширение `numpy` и создадим псевдоним `np` для доступа к\n",
    "инструментам модуля, не используя имя `numpy`\n"
   ]
  },
  {
   "cell_type": "code",
   "execution_count": 19,
   "id": "1117cf19-a254-402d-b130-943d51e587b5",
   "metadata": {},
   "outputs": [],
   "source": [
    "import numpy as np"
   ]
  },
  {
   "cell_type": "markdown",
   "id": "ef40bbd8-09ec-4c34-966c-dfc6cc92e8b8",
   "metadata": {},
   "source": [
    "Расширение `numpy` основано на работе со структурой данных массив ( `ndarray` ).\n",
    "Массив ( `ndarray` ) не является встроенным типом данных Python, он является\n",
    "базовым типом расширения `numpy` .\n",
    "Импортируем модуль `pyplot` из пакета `matplotlib` для построения графиков.\n",
    "Для этого примененим синтаксис `<имя пакета>.<имя модуля в пакете>` и\n",
    "создадим псевдоним имени модуля `plt`"
   ]
  },
  {
   "cell_type": "code",
   "execution_count": 22,
   "id": "05958ef6-df1f-4161-a4b5-b81f4319497a",
   "metadata": {},
   "outputs": [],
   "source": [
    "import matplotlib.pyplot as plt"
   ]
  },
  {
   "cell_type": "markdown",
   "id": "1a5563b7-9904-48eb-b82e-cdcb51c9cffc",
   "metadata": {},
   "source": [
    "Импортируем модуль `constants` из пакета расширений `scipy` с псевдонимом\n",
    "`const` . Модуль `constants` предоставляет доступ к значениям физических\n",
    "констант\n"
   ]
  },
  {
   "cell_type": "code",
   "execution_count": 24,
   "id": "fd2c9473-77a7-47f8-a483-45b3025c9201",
   "metadata": {},
   "outputs": [],
   "source": [
    "import scipy.constants as const"
   ]
  },
  {
   "cell_type": "markdown",
   "id": "f5115262-8c2c-4911-96e0-97815d1b0fd2",
   "metadata": {},
   "source": [
    "Импортируем модуль `sympy` для символьных вычислений в Python"
   ]
  },
  {
   "cell_type": "code",
   "execution_count": 26,
   "id": "9e50c908-30e6-4f9d-aa00-d998c153cd07",
   "metadata": {},
   "outputs": [],
   "source": [
    "import sympy"
   ]
  },
  {
   "cell_type": "markdown",
   "id": "3cdb2578-da47-4a64-a78c-6a71d21f283e",
   "metadata": {},
   "source": [
    "### Этап 2. Cоздание переменных"
   ]
  },
  {
   "cell_type": "markdown",
   "id": "f8b22bee-64de-4142-8387-90bd114cdb13",
   "metadata": {},
   "source": [
    "**Переменные** создаются при первом присваивании им значений. Слева от\n",
    "оператора присваивания ( $=$ ) записывается переменная, справа — выражение,\n",
    "результатом вычисления которого является объект: переменная = объект . Имена\n",
    "переменных рекомендовано задавать в нижнем регистре с использованием знака\n",
    "нижнего подчеркивания для смыслового разделения имени на части, например\n",
    "`first_variable = 1` . Объявлять переменные перед их инициализацией не нужно.\n",
    "\n",
    "После присваивания всякий раз, когда переменная появляется в коде, она\n",
    "заменяется на объект, на который ссылается. Нельзя использовать переменную,\n",
    "которой не присвоено значение.\n"
   ]
  },
  {
   "cell_type": "code",
   "execution_count": 29,
   "id": "05931f23-7a79-44a0-a0a0-3ecca001324f",
   "metadata": {},
   "outputs": [],
   "source": [
    "h_start = 1 # вертикальная составляющая положения тела в момент запуска\n",
    "h_end = 3.0E+0 # вертикальная составляющая положения тела в конечный момент движ\n",
    "T = 3.0 # время полета\n",
    "s_end = 5.0e0 # горизонтальное перемещение тела за время полета"
   ]
  },
  {
   "cell_type": "markdown",
   "id": "cc4de0e2-f0dd-4add-a2fd-393d1f0c65cb",
   "metadata": {},
   "source": [
    "Отобразить значение переменной можно, указав ее имя в ячейке ввода в\n",
    "последней строке или с использованием встроенной функции `print`"
   ]
  },
  {
   "cell_type": "code",
   "execution_count": 31,
   "id": "a3494d8d-8577-43b8-b891-ca362fcc83aa",
   "metadata": {
    "scrolled": true
   },
   "outputs": [
    {
     "data": {
      "text/plain": [
       "3.0"
      ]
     },
     "execution_count": 31,
     "metadata": {},
     "output_type": "execute_result"
    }
   ],
   "source": [
    "h_start # переменная не отобразится\n",
    "h_end # переменная отобразится"
   ]
  },
  {
   "cell_type": "code",
   "execution_count": 32,
   "id": "844fcf1f-7973-4ff6-982a-2f73e491dc31",
   "metadata": {
    "scrolled": true
   },
   "outputs": [
    {
     "name": "stdout",
     "output_type": "stream",
     "text": [
      "1 3.0\n"
     ]
    }
   ],
   "source": [
    "print(h_start, h_end)"
   ]
  },
  {
   "cell_type": "markdown",
   "id": "a84a5bea-4b46-4256-873f-f79ab002321a",
   "metadata": {},
   "source": [
    "Определим значение ускорения свободного падения для дальнейших расчетов:"
   ]
  },
  {
   "cell_type": "code",
   "execution_count": 34,
   "id": "4ce90c5b-0d4b-46f5-ad6c-8976cd8380f3",
   "metadata": {},
   "outputs": [
    {
     "data": {
      "text/plain": [
       "(9.80665, 'm s^-2')"
      ]
     },
     "execution_count": 34,
     "metadata": {},
     "output_type": "execute_result"
    }
   ],
   "source": [
    "g = const.g\n",
    "g, const.unit('standard acceleration of gravity')"
   ]
  },
  {
   "cell_type": "markdown",
   "id": "0a9e5c24-4254-45aa-b159-dde6516add47",
   "metadata": {},
   "source": [
    "$\\color{red}\\text{Приведите}$ несколько примеров физических констант из модуля\n",
    "constants пакета расширений `scipy` ."
   ]
  },
  {
   "cell_type": "markdown",
   "id": "3a2d5af3-4674-41e1-a10c-a71606bdea65",
   "metadata": {},
   "source": [
    "$\\color{green}\\text{Ответ:}$ \n",
    "- Скорость света в вакууме (`from scipy.constants import c`)\n",
    "- Постоянная Планка (`from scipy.constants import h`)\n",
    "- Постоянная Авогадро (`from scipy.constants import N_A`)\n",
    "- Гравитационная постоянная (`from scipy.constants import G`)"
   ]
  },
  {
   "cell_type": "markdown",
   "id": "d0e8a8b7-7969-4227-9c46-00ee8ddaa313",
   "metadata": {},
   "source": [
    "Временной отрезок $[0, T]$ представим в виде последовательности чисел. Cоздадим\n",
    "последовательность равномерно распределенных чисел на отрезке $[0, T]$ с шагом $0.01$\n",
    " двумя способами: на основе встроенного типа список ( `list` ) и на основе\n",
    "массива ( `ndarray` ) из расширения `numpy`"
   ]
  },
  {
   "cell_type": "code",
   "execution_count": 38,
   "id": "3be46c7b-5baf-4885-8b91-cb23582efdf2",
   "metadata": {},
   "outputs": [],
   "source": [
    "step = 0.01\n",
    "t_list = [0 + i*step for i in range(int(T/0.01))]\n",
    "t_array = np.arange(0,T,step)"
   ]
  },
  {
   "cell_type": "markdown",
   "id": "9aa96ecf-dc6d-4008-aa29-85c3cd538624",
   "metadata": {},
   "source": [
    "$\\color{red}\\text{Сформулируйте}$ спецификации функций `range` и `arange` , приведите примеры."
   ]
  },
  {
   "cell_type": "code",
   "execution_count": 40,
   "id": "0820fb9a-c540-4f6e-a2a2-eae2cec40929",
   "metadata": {},
   "outputs": [
    {
     "data": {
      "text/plain": [
       "\u001b[1;31mInit signature:\u001b[0m \u001b[0mrange\u001b[0m\u001b[1;33m(\u001b[0m\u001b[0mself\u001b[0m\u001b[1;33m,\u001b[0m \u001b[1;33m/\u001b[0m\u001b[1;33m,\u001b[0m \u001b[1;33m*\u001b[0m\u001b[0margs\u001b[0m\u001b[1;33m,\u001b[0m \u001b[1;33m**\u001b[0m\u001b[0mkwargs\u001b[0m\u001b[1;33m)\u001b[0m\u001b[1;33m\u001b[0m\u001b[1;33m\u001b[0m\u001b[0m\n",
       "\u001b[1;31mDocstring:\u001b[0m     \n",
       "range(stop) -> range object\n",
       "range(start, stop[, step]) -> range object\n",
       "\n",
       "Return an object that produces a sequence of integers from start (inclusive)\n",
       "to stop (exclusive) by step.  range(i, j) produces i, i+1, i+2, ..., j-1.\n",
       "start defaults to 0, and stop is omitted!  range(4) produces 0, 1, 2, 3.\n",
       "These are exactly the valid indices for a list of 4 elements.\n",
       "When step is given, it specifies the increment (or decrement).\n",
       "\u001b[1;31mType:\u001b[0m           type\n",
       "\u001b[1;31mSubclasses:\u001b[0m     "
      ]
     },
     "metadata": {},
     "output_type": "display_data"
    }
   ],
   "source": [
    "?range"
   ]
  },
  {
   "cell_type": "code",
   "execution_count": 41,
   "id": "739c5155-07c9-4396-ab22-1a43dc5524ac",
   "metadata": {
    "scrolled": true
   },
   "outputs": [
    {
     "data": {
      "text/plain": [
       "\u001b[1;31mDocstring:\u001b[0m\n",
       "arange([start,] stop[, step,], dtype=None, *, like=None)\n",
       "\n",
       "Return evenly spaced values within a given interval.\n",
       "\n",
       "``arange`` can be called with a varying number of positional arguments:\n",
       "\n",
       "* ``arange(stop)``: Values are generated within the half-open interval\n",
       "  ``[0, stop)`` (in other words, the interval including `start` but\n",
       "  excluding `stop`).\n",
       "* ``arange(start, stop)``: Values are generated within the half-open\n",
       "  interval ``[start, stop)``.\n",
       "* ``arange(start, stop, step)`` Values are generated within the half-open\n",
       "  interval ``[start, stop)``, with spacing between values given by\n",
       "  ``step``.\n",
       "\n",
       "For integer arguments the function is roughly equivalent to the Python\n",
       "built-in :py:class:`range`, but returns an ndarray rather than a ``range``\n",
       "instance.\n",
       "\n",
       "When using a non-integer step, such as 0.1, it is often better to use\n",
       "`numpy.linspace`.\n",
       "\n",
       "See the Warning sections below for more information.\n",
       "\n",
       "Parameters\n",
       "----------\n",
       "start : integer or real, optional\n",
       "    Start of interval.  The interval includes this value.  The default\n",
       "    start value is 0.\n",
       "stop : integer or real\n",
       "    End of interval.  The interval does not include this value, except\n",
       "    in some cases where `step` is not an integer and floating point\n",
       "    round-off affects the length of `out`.\n",
       "step : integer or real, optional\n",
       "    Spacing between values.  For any output `out`, this is the distance\n",
       "    between two adjacent values, ``out[i+1] - out[i]``.  The default\n",
       "    step size is 1.  If `step` is specified as a position argument,\n",
       "    `start` must also be given.\n",
       "dtype : dtype, optional\n",
       "    The type of the output array.  If `dtype` is not given, infer the data\n",
       "    type from the other input arguments.\n",
       "like : array_like, optional\n",
       "    Reference object to allow the creation of arrays which are not\n",
       "    NumPy arrays. If an array-like passed in as ``like`` supports\n",
       "    the ``__array_function__`` protocol, the result will be defined\n",
       "    by it. In this case, it ensures the creation of an array object\n",
       "    compatible with that passed in via this argument.\n",
       "\n",
       "    .. versionadded:: 1.20.0\n",
       "\n",
       "Returns\n",
       "-------\n",
       "arange : ndarray\n",
       "    Array of evenly spaced values.\n",
       "\n",
       "    For floating point arguments, the length of the result is\n",
       "    ``ceil((stop - start)/step)``.  Because of floating point overflow,\n",
       "    this rule may result in the last element of `out` being greater\n",
       "    than `stop`.\n",
       "\n",
       "Warnings\n",
       "--------\n",
       "The length of the output might not be numerically stable.\n",
       "\n",
       "Another stability issue is due to the internal implementation of\n",
       "`numpy.arange`.\n",
       "The actual step value used to populate the array is\n",
       "``dtype(start + step) - dtype(start)`` and not `step`. Precision loss\n",
       "can occur here, due to casting or due to using floating points when\n",
       "`start` is much larger than `step`. This can lead to unexpected\n",
       "behaviour. For example::\n",
       "\n",
       "  >>> np.arange(0, 5, 0.5, dtype=int)\n",
       "  array([0, 0, 0, 0, 0, 0, 0, 0, 0, 0])\n",
       "  >>> np.arange(-3, 3, 0.5, dtype=int)\n",
       "  array([-3, -2, -1,  0,  1,  2,  3,  4,  5,  6,  7,  8])\n",
       "\n",
       "In such cases, the use of `numpy.linspace` should be preferred.\n",
       "\n",
       "The built-in :py:class:`range` generates :std:doc:`Python built-in integers\n",
       "that have arbitrary size <python:c-api/long>`, while `numpy.arange`\n",
       "produces `numpy.int32` or `numpy.int64` numbers. This may result in\n",
       "incorrect results for large integer values::\n",
       "\n",
       "  >>> power = 40\n",
       "  >>> modulo = 10000\n",
       "  >>> x1 = [(n ** power) % modulo for n in range(8)]\n",
       "  >>> x2 = [(n ** power) % modulo for n in np.arange(8)]\n",
       "  >>> print(x1)\n",
       "  [0, 1, 7776, 8801, 6176, 625, 6576, 4001]  # correct\n",
       "  >>> print(x2)\n",
       "  [0, 1, 7776, 7185, 0, 5969, 4816, 3361]  # incorrect\n",
       "\n",
       "See Also\n",
       "--------\n",
       "numpy.linspace : Evenly spaced numbers with careful handling of endpoints.\n",
       "numpy.ogrid: Arrays of evenly spaced numbers in N-dimensions.\n",
       "numpy.mgrid: Grid-shaped arrays of evenly spaced numbers in N-dimensions.\n",
       ":ref:`how-to-partition`\n",
       "\n",
       "Examples\n",
       "--------\n",
       ">>> np.arange(3)\n",
       "array([0, 1, 2])\n",
       ">>> np.arange(3.0)\n",
       "array([ 0.,  1.,  2.])\n",
       ">>> np.arange(3,7)\n",
       "array([3, 4, 5, 6])\n",
       ">>> np.arange(3,7,2)\n",
       "array([3, 5])\n",
       "\u001b[1;31mType:\u001b[0m      builtin_function_or_method"
      ]
     },
     "metadata": {},
     "output_type": "display_data"
    }
   ],
   "source": [
    "?np.arange"
   ]
  },
  {
   "cell_type": "markdown",
   "id": "36a3bc3f-3817-4998-9c7e-fdf818a34315",
   "metadata": {},
   "source": [
    "$\\color{green}\\text{Ответ:}$ \n",
    "\n",
    "**Функция** `range(start, stop, step)` создает неизменяемую последовательность, состоящую из элементов типа $int$ .\n",
    "Первый элемент - *start*, последний - *stop*, шаг между элементами - *step* . Функцию можно записать в виде `range(stop)` . Тогда *start* по умолчанию равен 0, а *step* - 1.\n",
    "\n",
    "$\\color{purple}\\text{Примеры:}$\n",
    "\n",
    "- `range(2, 5)` создает последовательность от 2 до 5 с шагом 1.\n",
    "- `range(2, 5, 2)` создает последовательность от 2 до 5 с шагом 2.\n",
    "\n",
    "**Функция** `arange(start, stop, step, dtype)` создает массив, однако *type* позволяет указывать тип данных массива. Также в отличие от `range` занимает память, но позволяет гибко работать со своими элементами. Не является встроенным в базовый Python.\n",
    "\n",
    "$\\color{purple}\\text{Примеры:}$\n",
    "\n",
    "- `np.arange(0, 1, 0.1)` создает последовательность от 0 до 1 с дробным шагом = 0.1\n",
    "- `np.arange(5)` создает последовательность от 0 до 5 с шагом 1."
   ]
  },
  {
   "cell_type": "markdown",
   "id": "7b4748bd-c055-4b8b-8a12-dfb47d837df1",
   "metadata": {},
   "source": [
    "*Запомните*, что после создания списка ( `list` ) его размер изменить можно, после\n",
    "создания массива ( `ndarray` ) его размер изменить нельзя."
   ]
  },
  {
   "cell_type": "markdown",
   "id": "0c7df7ce-b6c6-4317-93a4-797bbbc950d7",
   "metadata": {},
   "source": [
    "### Этап 3. Определение функции перемещения и нахождение угла запуска тела\n"
   ]
  },
  {
   "cell_type": "markdown",
   "id": "89cca029-af13-49a5-93d7-b43b593f421e",
   "metadata": {},
   "source": [
    "Полагаем, что начало прямоугольной декартовой системы координат соответствует\n",
    "уровню земли. Тогда в начальный момент движения тела $t = 0$ имеем, что $$s_{x}(0) = 0, s_{y}(0) = h_{start}.$$ "
   ]
  },
  {
   "cell_type": "markdown",
   "id": "b2438609-0d75-4db0-ad67-861eb8928319",
   "metadata": {},
   "source": [
    "Для построения функции перемещения $(s_{x}(t) , s_{y}(t) )$ воспользуемся вторым\n",
    "законом Ньютона $$ma = F,$$ где $m$ -- масса тела, ускорение движения тела $a = (s^n_{x}(t), s^n_{y}(t))$ и приложенная\n",
    "сила $F = m(0,-g)$. В результате имеем два уравнения, что $$s^n_{x}(t) = 0, s^n_{y}(t) = -g.$$ На основании уравнений с учетом начальных условий можно записать\n",
    "аналитический вид для функций $s_{x}(t)$ и $s_{y}(t)$ $$s_{x}(t) = s_{x}(0) + v0_{x}t = 0 + v0_{x}t,$$ $$s_{y}(t) = s_{y}(0) + v0_{y}t = 0 + v0_{x}t - \\frac{g}{2}t^2 = h_{start} + v0_{y}t - \\frac{g}{2}t^2,$$ где $v0 = (v0_{x}, v0_{y})$ обозначает неизвестную скорость движения тела в начальный момент времени $t = 0$.\n"
   ]
  },
  {
   "cell_type": "markdown",
   "id": "816563b7-27bc-4b34-9eac-2808abd72d48",
   "metadata": {},
   "source": [
    "$\\color{red}\\text{Напишите}$ подробно, как из второго закона Ньютона и начальных\n",
    "условий получен аналитический вид функции перемещения $s_{x}(t), s_{y}(t)$.\n",
    "Объяснения оформите в тексте документа с лабораторной работой.\n",
    "\n",
    "$\\color{green}\\text{Ответ: }$ Тело, брошенное под углом к горизонту движется по двум осям: горизонтальной $( x )$ и вертикальной $( y )$.\n",
    "\n",
    "- **Горизонтальная ось**:  ускорение отсутствует => скорость постоянна. Из формулы горизонтального перемещения $x(t) = x_{0} + v0_{x}t + \\frac{a}{2}*t^2$ (как сказано выше, ускорение отсутствует, а начальную точку принимаем за 0), остается $x(t) = v0_{x}t$ , где $x(t)$ - конечная координата (расстояние), а $v0_{x}$ и $t$ - начальная скорость и время движения тела соответственно.\n",
    "\n",
    "- **Вертикальная ось**: здесь присутствует ускорение свободного падения => скорость по вертикали изменяется. Т.к. укорение свободного падения действует вниз, а тело было брошено под положительным углом к горизонту => начальная скорость $v0_{y}$ будет положительной, а ускорение $g$ будет отрицательным, и после остановки в своей максимальной точке, тело будет набирать скорость уже в противоположном направлении, относительно направления оси $O_{y}$. Из формулы горизонтального перемещения, представленной выше, заменив символ $x$ на $y$ и поменяв знак у ускорения, при условии, что нам дана координата $y_{0} = h_{start}$ , получим формулу, которая имеет вид: $s_{y}(t) = s_{y}(0) + v0_{y}t = 0 + v0_{x}t - \\frac{g}{2}t^2 = h_{start} + v0_{y}t - \\frac{g}{2}t^2$\n"
   ]
  },
  {
   "cell_type": "markdown",
   "id": "64671445-f5c6-425d-8ae3-cd6a6ed1fac4",
   "metadata": {},
   "source": [
    "$\\color{red}\\text{Задание* необязательное}$: как изменится вид функций\n",
    "перемещения, если начальный момент времени будет равен не $t = 0$, a $t = t^*$ ?\n",
    "\n",
    "$\\color{green}\\text{Ответ}$: т.к. никакие параметры, кроме начального времени не были изменены, в формуле стоит поменять только параметр $t$:\n",
    "\n",
    "- **Для горизонтальной оси** формула примет вид $s_{x}(t) = v0_{x}(t-t^*)$.\n",
    "- **Для вертикальной оси** формула примет вид $s_{y}(t) = s_{y}(0) + v0_{y}(t-t^*) = 0 + v0_{x}(t-t^*) - \\frac{g}{2}(t-t^*)^2 = h_{start} + v0_{y}(t-t^*) - \\frac{g}{2}(t-t^*)^2$."
   ]
  },
  {
   "cell_type": "markdown",
   "id": "98319326-0546-4f09-b7d1-82f34ad2225e",
   "metadata": {},
   "source": [
    "Из условия задачи имеем, что $s_{y}(T) = h_{end}$. Из этого соотношения находим\n",
    "значение для $v0_{y}$"
   ]
  },
  {
   "cell_type": "code",
   "execution_count": 52,
   "id": "ac1f6516-0004-4adb-a363-7e7dd535266e",
   "metadata": {},
   "outputs": [
    {
     "data": {
      "text/plain": [
       "15.376641666666666"
      ]
     },
     "execution_count": 52,
     "metadata": {},
     "output_type": "execute_result"
    }
   ],
   "source": [
    "v0_y = (h_end-h_start+g/2*T**2)/T\n",
    "v0_y"
   ]
  },
  {
   "cell_type": "code",
   "execution_count": 53,
   "id": "e4180d66-69c6-4dd2-999f-ac696e3f5b70",
   "metadata": {},
   "outputs": [
    {
     "data": {
      "text/plain": [
       "1.6666666666666667"
      ]
     },
     "execution_count": 53,
     "metadata": {},
     "output_type": "execute_result"
    }
   ],
   "source": [
    "v0_x = s_end/T\n",
    "v0_x"
   ]
  },
  {
   "cell_type": "markdown",
   "id": "58341955-7ef5-4d01-a9a6-88423463d407",
   "metadata": {},
   "source": [
    "Значение угла запуска тела $\\alpha$ определяем из соотношения $\\tan\\alpha = \\frac{v0_{y}}{v0_{x}}$"
   ]
  },
  {
   "cell_type": "code",
   "execution_count": 55,
   "id": "562d1890-7f87-4e77-be5c-6182283d7eac",
   "metadata": {},
   "outputs": [
    {
     "data": {
      "text/plain": [
       "(1.462828312588189, 83.81388846354714)"
      ]
     },
     "execution_count": 55,
     "metadata": {},
     "output_type": "execute_result"
    }
   ],
   "source": [
    "alpha = math.atan(v0_y/v0_x)\n",
    "alpha, math.degrees(alpha)"
   ]
  },
  {
   "cell_type": "markdown",
   "id": "d709ad96-c763-4771-8a77-fd211e8389ad",
   "metadata": {},
   "source": [
    "Результирующая функция перемещения имеет следующий вид"
   ]
  },
  {
   "cell_type": "code",
   "execution_count": 57,
   "id": "775c2d6d-9179-4583-891c-8a7a2607eec0",
   "metadata": {},
   "outputs": [
    {
     "data": {
      "text/plain": [
       "'s_x(t) = 1.6666666666666667 t'"
      ]
     },
     "execution_count": 57,
     "metadata": {},
     "output_type": "execute_result"
    }
   ],
   "source": [
    "f's_x(t) = {v0_x} t'"
   ]
  },
  {
   "cell_type": "code",
   "execution_count": 58,
   "id": "2ea19fd9-d4a6-4643-ae59-88436059d20d",
   "metadata": {},
   "outputs": [
    {
     "data": {
      "text/plain": [
       "'s_y(t) = 1 + 15.3766 t - 9.80665/2*t²'"
      ]
     },
     "execution_count": 58,
     "metadata": {},
     "output_type": "execute_result"
    }
   ],
   "source": [
    "f's_y(t) = {h_start} + {v0_y:.6} t - {g:.6}/2*t\\N{superscript two}'"
   ]
  },
  {
   "cell_type": "markdown",
   "id": "d1c15da0-c713-4c33-b441-14ae1a4da3c4",
   "metadata": {},
   "source": [
    "### Этап 4. Построение графика траектории движения тела"
   ]
  },
  {
   "cell_type": "markdown",
   "id": "d67acd97-1461-4128-aff2-114603a32ce8",
   "metadata": {},
   "source": [
    "Построение графиков функций осуществляется по координатам точек графика. Для\n",
    "этого нужно создать последовательность значений _x_-координат точек графика функции и последовательность соответствующих значений _y_-координат точек\n",
    "графика функции.\n",
    "\n",
    "На Этапе 2 было создано две последовательности равномерно распределенных\n",
    "чисел на отрезке $[0, T]$ с шагом 0.01 для переменной времени $t$"
   ]
  },
  {
   "cell_type": "code",
   "execution_count": 61,
   "id": "be4cf7d9-dbe4-4f24-a17c-724da6197a5a",
   "metadata": {},
   "outputs": [],
   "source": [
    "t_list, t_array; # символ ; в конце выражения предотвращает вывод результата."
   ]
  },
  {
   "cell_type": "markdown",
   "id": "ac9bb807-20bf-479b-b248-2c9e4cf01e11",
   "metadata": {},
   "source": [
    "Определим списки чисел, соответствующие горизонтальным и вертикальным\n",
    "составляющим положения тела в моменты времени `t_list` с использованием\n",
    "формул, полученных на Этапе 3:\n"
   ]
  },
  {
   "cell_type": "code",
   "execution_count": 64,
   "id": "eba02680-450e-41be-8cea-a863b6e260db",
   "metadata": {},
   "outputs": [],
   "source": [
    "s_x_list = [v0_x*t for t in t_list]\n",
    "s_y_list = [h_start+v0_y*t-g*t**2/2 for t in t_list]"
   ]
  },
  {
   "cell_type": "markdown",
   "id": "4584be0f-8796-4653-8e69-bd2b4d692da4",
   "metadata": {},
   "source": [
    "Определим массивы чисел, соответствующие горизонтальным и вертикальным\n",
    "составляющим положения тела в момент времени `t_array` :"
   ]
  },
  {
   "cell_type": "code",
   "execution_count": 70,
   "id": "41f77d80-9d62-448e-92a0-0be25e309b3b",
   "metadata": {},
   "outputs": [],
   "source": [
    "s_x_array = v0_x*t_array\n",
    "s_y_array = h_start+v0_y*t_array-g*t_array**2/2"
   ]
  },
  {
   "cell_type": "markdown",
   "id": "597bc33d-e626-4dcc-b135-1558e0510ad2",
   "metadata": {},
   "source": [
    "*Обратите внимание*, что арифметические действия (+, -, *, /, **) с массивами\n",
    "`ndarray` выполняются **поэлементно** без использования дополнительного\n",
    "синтаксиса.\n",
    "\n",
    "Строим график траектории движения тела, используя инструменты модуля pyplot\n",
    "пакета matplotlib . Смотрите **Help | Matplotlib Reference** для справочной\n",
    "информации по используемым функциям: `figure` , `plot` , `title` , `xlabel` ,\n",
    "`ylabel` , `axis` , `xlim` , `ylim` ."
   ]
  },
  {
   "cell_type": "code",
   "execution_count": 75,
   "id": "9a2c8573-4e5b-4681-b2a7-53f1fefd0316",
   "metadata": {
    "scrolled": true
   },
   "outputs": [
    {
     "data": {
      "text/plain": [
       "(0.0, 5.0, 0.0, 14.0)"
      ]
     },
     "execution_count": 75,
     "metadata": {},
     "output_type": "execute_result"
    },
    {
     "data": {
      "image/png": "[encoded data removed]",
      "text/plain": [
       "<Figure size 640x480 with 1 Axes>"
      ]
     },
     "metadata": {},
     "output_type": "display_data"
    }
   ],
   "source": [
    "plt.figure()\n",
    "plt.plot(s_x_list,s_y_list,'b-',lw=5)\n",
    "plt.title('Вертикальное перемещение тела')\n",
    "plt.xlabel('x (m)'); plt.ylabel('y (m)') # символ ; позволяет записывать несколь\n",
    "plt.axis([0, s_end, 0, h_end+11])"
   ]
  },
  {
   "cell_type": "markdown",
   "id": "e218bf32-9e48-4ad6-aab9-ed84a3122cf4",
   "metadata": {},
   "source": [
    "При вызове функции `plot` из `pyplot` можно использовать как списки, так и\n",
    "массивы.\n"
   ]
  },
  {
   "cell_type": "code",
   "execution_count": 77,
   "id": "68fcf2e3-176f-4a89-85fb-51befa698399",
   "metadata": {},
   "outputs": [
    {
     "data": {
      "image/png": "[encoded data removed]",
      "text/plain": [
       "<Figure size 640x480 with 1 Axes>"
      ]
     },
     "metadata": {},
     "output_type": "display_data"
    }
   ],
   "source": [
    "plt.figure()\n",
    "plt.plot(s_x_array,s_y_array,color='green',lw=3)\n",
    "plt.title('Вертикальное перемещение тела')\n",
    "plt.xlabel('x (m)'); plt.ylabel('y (m)')\n",
    "# альтернативный синтаксис для установки пределов по осям\n",
    "plt.xlim(0, s_end)\n",
    "plt.ylim(0, h_end+11);"
   ]
  },
  {
   "cell_type": "markdown",
   "id": "2816e975-cce7-47ce-8942-0a1da318dd75",
   "metadata": {},
   "source": [
    "# Задание 1.2. Определение момента времени касания телом земли"
   ]
  },
  {
   "cell_type": "markdown",
   "id": "1d4640d4-988c-41c9-ae10-fe45aba03e49",
   "metadata": {},
   "source": [
    "Для задачи о падении тела из Задания 1.1 \\color{red}\\text{найдите} момент времени касания телом\n",
    "земли (время нахождения тела в воздухе).\n",
    "\n",
    "Выполнение задания осуществите на основе двух подходов.\n",
    "\n",
    "*Подход 1* (**точное решение**): время касания телом земли находим как точное\n",
    "решение уравнения $s_{y}(t) = 0$;\n",
    "\n",
    "*Подход 2* (**приближенное решение**)\n",
    "\n",
    "- Постройте последовательность $s_{y}$ на временном отрезке $[0, t_{stop}]$, чтобы\n",
    "момент касания тела земли $t^*$ попадал в выбранный отрезок, т.е. $t^* \\in [0, t_{stop}]$.\n",
    "Отметим, что $t_{stop} > T$, где значение $T$ задается в Задании 1.1.\n",
    "- Найдите в построенной последовательности $s_{y}$ два соседних элемента\n",
    "последовательности, значения которых меняют знак. Т. е. найдите значение\n",
    "индекса *k*, для которого $s_{y}[k]s_{y}[k+1] < 0$. Это будет означать, что $0 \\in (s_{y}[k]s_{y}[k+1])$.\n",
    "- Постройте прямую линию $s_{lin}(t)$, проходящую через две точки $(t[k], s_{y}[k])$ и $(t[k+1], s_{y}[k+1])$ и найдите значение $t^* \\in (t[k],t[k+1])$ из условия $s_{lin}(t^*) = 0$. Найденное значение $t^*$, будет соответствовать точке $(t^*, 0)$ на прямой $s_{lin}(t)$. $\\color{red}\\text{Приведите}$ в документе формулы для прямой $s_{lin}(t)$ и для вычисления $(t^*)$.\n",
    "$\\color{red}\\text{Сравните}$ точное решение (*Подход 1*) и приближенное решение (*Подход 2*), вычислив относительную ошибку."
   ]
  },
  {
   "cell_type": "markdown",
   "id": "af28af7e-ee02-4eea-9767-0da4f796ac68",
   "metadata": {},
   "source": [
    "## Выполнение Задания 1.2"
   ]
  },
  {
   "cell_type": "markdown",
   "id": "0f42bdd0-5f12-47ae-9c27-d07ad8521c59",
   "metadata": {},
   "source": [
    "Рассмотрим *Подход 1* выполнения Задания 1.2.\n",
    "\n",
    "Для решения алгебраического уравнения $s_{y}(t) = 0$ воспользуемся функцией\n",
    "`solve` из модуля `sympy` , которая предназначена для решения алгебраических\n",
    "уравнений и систем уравнений. Для выполнения функции `solve` предварительно с\n",
    "помощью функции `symbols` необходимо создать **символьную переменную**,\n",
    "относительно которой будет определено уравнение."
   ]
  },
  {
   "cell_type": "code",
   "execution_count": 82,
   "id": "d79efa21-6e63-427c-a396-86a634a69333",
   "metadata": {},
   "outputs": [
    {
     "data": {
      "text/plain": [
       "[-0.0637382309488101, 3.19970039267921]"
      ]
     },
     "execution_count": 82,
     "metadata": {},
     "output_type": "execute_result"
    }
   ],
   "source": [
    "t = sympy.symbols('t')\n",
    "result = sympy.solve(h_start+v0_y*t-g*t**2/2, t)\n",
    "result"
   ]
  },
  {
   "cell_type": "code",
   "execution_count": 88,
   "id": "beb6fe57-d242-4d6c-9d2c-3c57d998c6c8",
   "metadata": {},
   "outputs": [
    {
     "data": {
      "text/latex": [
       "$\\displaystyle 3.19970039267921$"
      ],
      "text/plain": [
       "3.19970039267921"
      ]
     },
     "execution_count": 88,
     "metadata": {},
     "output_type": "execute_result"
    }
   ],
   "source": [
    "t_star_exact = result[-1]\n",
    "t_star_exact"
   ]
  },
  {
   "cell_type": "markdown",
   "id": "49d43363-a42e-4901-920a-9d454c77d99c",
   "metadata": {},
   "source": [
    "$\\color{red}\\text{Сформулируйте}$ спецификации функций `symbols` и `solve` из\n",
    "модуля `sympy`. $\\color{red}\\text{ Приведите}$ два собственных примера решения\n",
    "алгебраических уравнений."
   ]
  },
  {
   "cell_type": "code",
   "execution_count": 91,
   "id": "d5c03b15-590b-4518-9529-442738094dc3",
   "metadata": {},
   "outputs": [
    {
     "data": {
      "text/plain": [
       "\u001b[1;31mSignature:\u001b[0m \u001b[0msympy\u001b[0m\u001b[1;33m.\u001b[0m\u001b[0msolve\u001b[0m\u001b[1;33m(\u001b[0m\u001b[0mf\u001b[0m\u001b[1;33m,\u001b[0m \u001b[1;33m*\u001b[0m\u001b[0msymbols\u001b[0m\u001b[1;33m,\u001b[0m \u001b[1;33m**\u001b[0m\u001b[0mflags\u001b[0m\u001b[1;33m)\u001b[0m\u001b[1;33m\u001b[0m\u001b[1;33m\u001b[0m\u001b[0m\n",
       "\u001b[1;31mDocstring:\u001b[0m\n",
       "Algebraically solves equations and systems of equations.\n",
       "\n",
       "Explanation\n",
       "===========\n",
       "\n",
       "Currently supported:\n",
       "    - polynomial\n",
       "    - transcendental\n",
       "    - piecewise combinations of the above\n",
       "    - systems of linear and polynomial equations\n",
       "    - systems containing relational expressions\n",
       "    - systems implied by undetermined coefficients\n",
       "\n",
       "Examples\n",
       "========\n",
       "\n",
       "The default output varies according to the input and might\n",
       "be a list (possibly empty), a dictionary, a list of\n",
       "dictionaries or tuples, or an expression involving relationals.\n",
       "For specifics regarding different forms of output that may appear, see :ref:`solve_output`.\n",
       "Let it suffice here to say that to obtain a uniform output from\n",
       "`solve` use ``dict=True`` or ``set=True`` (see below).\n",
       "\n",
       "    >>> from sympy import solve, Poly, Eq, Matrix, Symbol\n",
       "    >>> from sympy.abc import x, y, z, a, b\n",
       "\n",
       "The expressions that are passed can be Expr, Equality, or Poly\n",
       "classes (or lists of the same); a Matrix is considered to be a\n",
       "list of all the elements of the matrix:\n",
       "\n",
       "    >>> solve(x - 3, x)\n",
       "    [3]\n",
       "    >>> solve(Eq(x, 3), x)\n",
       "    [3]\n",
       "    >>> solve(Poly(x - 3), x)\n",
       "    [3]\n",
       "    >>> solve(Matrix([[x, x + y]]), x, y) == solve([x, x + y], x, y)\n",
       "    True\n",
       "\n",
       "If no symbols are indicated to be of interest and the equation is\n",
       "univariate, a list of values is returned; otherwise, the keys in\n",
       "a dictionary will indicate which (of all the variables used in\n",
       "the expression(s)) variables and solutions were found:\n",
       "\n",
       "    >>> solve(x**2 - 4)\n",
       "    [-2, 2]\n",
       "    >>> solve((x - a)*(y - b))\n",
       "    [{a: x}, {b: y}]\n",
       "    >>> solve([x - 3, y - 1])\n",
       "    {x: 3, y: 1}\n",
       "    >>> solve([x - 3, y**2 - 1])\n",
       "    [{x: 3, y: -1}, {x: 3, y: 1}]\n",
       "\n",
       "If you pass symbols for which solutions are sought, the output will vary\n",
       "depending on the number of symbols you passed, whether you are passing\n",
       "a list of expressions or not, and whether a linear system was solved.\n",
       "Uniform output is attained by using ``dict=True`` or ``set=True``.\n",
       "\n",
       "    >>> #### *** feel free to skip to the stars below *** ####\n",
       "    >>> from sympy import TableForm\n",
       "    >>> h = [None, ';|;'.join(['e', 's', 'solve(e, s)', 'solve(e, s, dict=True)',\n",
       "    ... 'solve(e, s, set=True)']).split(';')]\n",
       "    >>> t = []\n",
       "    >>> for e, s in [\n",
       "    ...         (x - y, y),\n",
       "    ...         (x - y, [x, y]),\n",
       "    ...         (x**2 - y, [x, y]),\n",
       "    ...         ([x - 3, y -1], [x, y]),\n",
       "    ...         ]:\n",
       "    ...     how = [{}, dict(dict=True), dict(set=True)]\n",
       "    ...     res = [solve(e, s, **f) for f in how]\n",
       "    ...     t.append([e, '|', s, '|'] + [res[0], '|', res[1], '|', res[2]])\n",
       "    ...\n",
       "    >>> # ******************************************************* #\n",
       "    >>> TableForm(t, headings=h, alignments=\"<\")\n",
       "    e              | s      | solve(e, s)  | solve(e, s, dict=True) | solve(e, s, set=True)\n",
       "    ---------------------------------------------------------------------------------------\n",
       "    x - y          | y      | [x]          | [{y: x}]               | ([y], {(x,)})\n",
       "    x - y          | [x, y] | [(y, y)]     | [{x: y}]               | ([x, y], {(y, y)})\n",
       "    x**2 - y       | [x, y] | [(x, x**2)]  | [{y: x**2}]            | ([x, y], {(x, x**2)})\n",
       "    [x - 3, y - 1] | [x, y] | {x: 3, y: 1} | [{x: 3, y: 1}]         | ([x, y], {(3, 1)})\n",
       "\n",
       "    * If any equation does not depend on the symbol(s) given, it will be\n",
       "      eliminated from the equation set and an answer may be given\n",
       "      implicitly in terms of variables that were not of interest:\n",
       "\n",
       "        >>> solve([x - y, y - 3], x)\n",
       "        {x: y}\n",
       "\n",
       "When you pass all but one of the free symbols, an attempt\n",
       "is made to find a single solution based on the method of\n",
       "undetermined coefficients. If it succeeds, a dictionary of values\n",
       "is returned. If you want an algebraic solutions for one\n",
       "or more of the symbols, pass the expression to be solved in a list:\n",
       "\n",
       "    >>> e = a*x + b - 2*x - 3\n",
       "    >>> solve(e, [a, b])\n",
       "    {a: 2, b: 3}\n",
       "    >>> solve([e], [a, b])\n",
       "    {a: -b/x + (2*x + 3)/x}\n",
       "\n",
       "When there is no solution for any given symbol which will make all\n",
       "expressions zero, the empty list is returned (or an empty set in\n",
       "the tuple when ``set=True``):\n",
       "\n",
       "    >>> from sympy import sqrt\n",
       "    >>> solve(3, x)\n",
       "    []\n",
       "    >>> solve(x - 3, y)\n",
       "    []\n",
       "    >>> solve(sqrt(x) + 1, x, set=True)\n",
       "    ([x], set())\n",
       "\n",
       "When an object other than a Symbol is given as a symbol, it is\n",
       "isolated algebraically and an implicit solution may be obtained.\n",
       "This is mostly provided as a convenience to save you from replacing\n",
       "the object with a Symbol and solving for that Symbol. It will only\n",
       "work if the specified object can be replaced with a Symbol using the\n",
       "subs method:\n",
       "\n",
       "    >>> from sympy import exp, Function\n",
       "    >>> f = Function('f')\n",
       "\n",
       "    >>> solve(f(x) - x, f(x))\n",
       "    [x]\n",
       "    >>> solve(f(x).diff(x) - f(x) - x, f(x).diff(x))\n",
       "    [x + f(x)]\n",
       "    >>> solve(f(x).diff(x) - f(x) - x, f(x))\n",
       "    [-x + Derivative(f(x), x)]\n",
       "    >>> solve(x + exp(x)**2, exp(x), set=True)\n",
       "    ([exp(x)], {(-sqrt(-x),), (sqrt(-x),)})\n",
       "\n",
       "    >>> from sympy import Indexed, IndexedBase, Tuple\n",
       "    >>> A = IndexedBase('A')\n",
       "    >>> eqs = Tuple(A[1] + A[2] - 3, A[1] - A[2] + 1)\n",
       "    >>> solve(eqs, eqs.atoms(Indexed))\n",
       "    {A[1]: 1, A[2]: 2}\n",
       "\n",
       "    * To solve for a function within a derivative, use :func:`~.dsolve`.\n",
       "\n",
       "To solve for a symbol implicitly, use implicit=True:\n",
       "\n",
       "    >>> solve(x + exp(x), x)\n",
       "    [-LambertW(1)]\n",
       "    >>> solve(x + exp(x), x, implicit=True)\n",
       "    [-exp(x)]\n",
       "\n",
       "It is possible to solve for anything in an expression that can be\n",
       "replaced with a symbol using :obj:`~sympy.core.basic.Basic.subs`:\n",
       "\n",
       "    >>> solve(x + 2 + sqrt(3), x + 2)\n",
       "    [-sqrt(3)]\n",
       "    >>> solve((x + 2 + sqrt(3), x + 4 + y), y, x + 2)\n",
       "    {y: -2 + sqrt(3), x + 2: -sqrt(3)}\n",
       "\n",
       "    * Nothing heroic is done in this implicit solving so you may end up\n",
       "      with a symbol still in the solution:\n",
       "\n",
       "        >>> eqs = (x*y + 3*y + sqrt(3), x + 4 + y)\n",
       "        >>> solve(eqs, y, x + 2)\n",
       "        {y: -sqrt(3)/(x + 3), x + 2: -2*x/(x + 3) - 6/(x + 3) + sqrt(3)/(x + 3)}\n",
       "        >>> solve(eqs, y*x, x)\n",
       "        {x: -y - 4, x*y: -3*y - sqrt(3)}\n",
       "\n",
       "    * If you attempt to solve for a number, remember that the number\n",
       "      you have obtained does not necessarily mean that the value is\n",
       "      equivalent to the expression obtained:\n",
       "\n",
       "        >>> solve(sqrt(2) - 1, 1)\n",
       "        [sqrt(2)]\n",
       "        >>> solve(x - y + 1, 1)  # /!\\ -1 is targeted, too\n",
       "        [x/(y - 1)]\n",
       "        >>> [_.subs(z, -1) for _ in solve((x - y + 1).subs(-1, z), 1)]\n",
       "        [-x + y]\n",
       "\n",
       "**Additional Examples**\n",
       "\n",
       "``solve()`` with check=True (default) will run through the symbol tags to\n",
       "eliminate unwanted solutions. If no assumptions are included, all possible\n",
       "solutions will be returned:\n",
       "\n",
       "    >>> x = Symbol(\"x\")\n",
       "    >>> solve(x**2 - 1)\n",
       "    [-1, 1]\n",
       "\n",
       "By setting the ``positive`` flag, only one solution will be returned:\n",
       "\n",
       "    >>> pos = Symbol(\"pos\", positive=True)\n",
       "    >>> solve(pos**2 - 1)\n",
       "    [1]\n",
       "\n",
       "When the solutions are checked, those that make any denominator zero\n",
       "are automatically excluded. If you do not want to exclude such solutions,\n",
       "then use the check=False option:\n",
       "\n",
       "    >>> from sympy import sin, limit\n",
       "    >>> solve(sin(x)/x)  # 0 is excluded\n",
       "    [pi]\n",
       "\n",
       "If ``check=False``, then a solution to the numerator being zero is found\n",
       "but the value of $x = 0$ is a spurious solution since $\\sin(x)/x$ has the well\n",
       "known limit (without discontinuity) of 1 at $x = 0$:\n",
       "\n",
       "    >>> solve(sin(x)/x, check=False)\n",
       "    [0, pi]\n",
       "\n",
       "In the following case, however, the limit exists and is equal to the\n",
       "value of $x = 0$ that is excluded when check=True:\n",
       "\n",
       "    >>> eq = x**2*(1/x - z**2/x)\n",
       "    >>> solve(eq, x)\n",
       "    []\n",
       "    >>> solve(eq, x, check=False)\n",
       "    [0]\n",
       "    >>> limit(eq, x, 0, '-')\n",
       "    0\n",
       "    >>> limit(eq, x, 0, '+')\n",
       "    0\n",
       "\n",
       "**Solving Relationships**\n",
       "\n",
       "When one or more expressions passed to ``solve`` is a relational,\n",
       "a relational result is returned (and the ``dict`` and ``set`` flags\n",
       "are ignored):\n",
       "\n",
       "    >>> solve(x < 3)\n",
       "    (-oo < x) & (x < 3)\n",
       "    >>> solve([x < 3, x**2 > 4], x)\n",
       "    ((-oo < x) & (x < -2)) | ((2 < x) & (x < 3))\n",
       "    >>> solve([x + y - 3, x > 3], x)\n",
       "    (3 < x) & (x < oo) & Eq(x, 3 - y)\n",
       "\n",
       "Although checking of assumptions on symbols in relationals\n",
       "is not done, setting assumptions will affect how certain\n",
       "relationals might automatically simplify:\n",
       "\n",
       "    >>> solve(x**2 > 4)\n",
       "    ((-oo < x) & (x < -2)) | ((2 < x) & (x < oo))\n",
       "\n",
       "    >>> r = Symbol('r', real=True)\n",
       "    >>> solve(r**2 > 4)\n",
       "    (2 < r) | (r < -2)\n",
       "\n",
       "There is currently no algorithm in SymPy that allows you to use\n",
       "relationships to resolve more than one variable. So the following\n",
       "does not determine that ``q < 0`` (and trying to solve for ``r``\n",
       "and ``q`` will raise an error):\n",
       "\n",
       "    >>> from sympy import symbols\n",
       "    >>> r, q = symbols('r, q', real=True)\n",
       "    >>> solve([r + q - 3, r > 3], r)\n",
       "    (3 < r) & Eq(r, 3 - q)\n",
       "\n",
       "You can directly call the routine that ``solve`` calls\n",
       "when it encounters a relational: :func:`~.reduce_inequalities`.\n",
       "It treats Expr like Equality.\n",
       "\n",
       "    >>> from sympy import reduce_inequalities\n",
       "    >>> reduce_inequalities([x**2 - 4])\n",
       "    Eq(x, -2) | Eq(x, 2)\n",
       "\n",
       "If each relationship contains only one symbol of interest,\n",
       "the expressions can be processed for multiple symbols:\n",
       "\n",
       "    >>> reduce_inequalities([0 <= x  - 1, y < 3], [x, y])\n",
       "    (-oo < y) & (1 <= x) & (x < oo) & (y < 3)\n",
       "\n",
       "But an error is raised if any relationship has more than one\n",
       "symbol of interest:\n",
       "\n",
       "    >>> reduce_inequalities([0 <= x*y  - 1, y < 3], [x, y])\n",
       "    Traceback (most recent call last):\n",
       "    ...\n",
       "    NotImplementedError:\n",
       "    inequality has more than one symbol of interest.\n",
       "\n",
       "**Disabling High-Order Explicit Solutions**\n",
       "\n",
       "When solving polynomial expressions, you might not want explicit solutions\n",
       "(which can be quite long). If the expression is univariate, ``CRootOf``\n",
       "instances will be returned instead:\n",
       "\n",
       "    >>> solve(x**3 - x + 1)\n",
       "    [-1/((-1/2 - sqrt(3)*I/2)*(3*sqrt(69)/2 + 27/2)**(1/3)) -\n",
       "    (-1/2 - sqrt(3)*I/2)*(3*sqrt(69)/2 + 27/2)**(1/3)/3,\n",
       "    -(-1/2 + sqrt(3)*I/2)*(3*sqrt(69)/2 + 27/2)**(1/3)/3 -\n",
       "    1/((-1/2 + sqrt(3)*I/2)*(3*sqrt(69)/2 + 27/2)**(1/3)),\n",
       "    -(3*sqrt(69)/2 + 27/2)**(1/3)/3 -\n",
       "    1/(3*sqrt(69)/2 + 27/2)**(1/3)]\n",
       "    >>> solve(x**3 - x + 1, cubics=False)\n",
       "    [CRootOf(x**3 - x + 1, 0),\n",
       "     CRootOf(x**3 - x + 1, 1),\n",
       "     CRootOf(x**3 - x + 1, 2)]\n",
       "\n",
       "If the expression is multivariate, no solution might be returned:\n",
       "\n",
       "    >>> solve(x**3 - x + a, x, cubics=False)\n",
       "    []\n",
       "\n",
       "Sometimes solutions will be obtained even when a flag is False because the\n",
       "expression could be factored. In the following example, the equation can\n",
       "be factored as the product of a linear and a quadratic factor so explicit\n",
       "solutions (which did not require solving a cubic expression) are obtained:\n",
       "\n",
       "    >>> eq = x**3 + 3*x**2 + x - 1\n",
       "    >>> solve(eq, cubics=False)\n",
       "    [-1, -1 + sqrt(2), -sqrt(2) - 1]\n",
       "\n",
       "**Solving Equations Involving Radicals**\n",
       "\n",
       "Because of SymPy's use of the principle root, some solutions\n",
       "to radical equations will be missed unless check=False:\n",
       "\n",
       "    >>> from sympy import root\n",
       "    >>> eq = root(x**3 - 3*x**2, 3) + 1 - x\n",
       "    >>> solve(eq)\n",
       "    []\n",
       "    >>> solve(eq, check=False)\n",
       "    [1/3]\n",
       "\n",
       "In the above example, there is only a single solution to the\n",
       "equation. Other expressions will yield spurious roots which\n",
       "must be checked manually; roots which give a negative argument\n",
       "to odd-powered radicals will also need special checking:\n",
       "\n",
       "    >>> from sympy import real_root, S\n",
       "    >>> eq = root(x, 3) - root(x, 5) + S(1)/7\n",
       "    >>> solve(eq)  # this gives 2 solutions but misses a 3rd\n",
       "    [CRootOf(7*x**5 - 7*x**3 + 1, 1)**15,\n",
       "    CRootOf(7*x**5 - 7*x**3 + 1, 2)**15]\n",
       "    >>> sol = solve(eq, check=False)\n",
       "    >>> [abs(eq.subs(x,i).n(2)) for i in sol]\n",
       "    [0.48, 0.e-110, 0.e-110, 0.052, 0.052]\n",
       "\n",
       "The first solution is negative so ``real_root`` must be used to see that it\n",
       "satisfies the expression:\n",
       "\n",
       "    >>> abs(real_root(eq.subs(x, sol[0])).n(2))\n",
       "    0.e-110\n",
       "\n",
       "If the roots of the equation are not real then more care will be\n",
       "necessary to find the roots, especially for higher order equations.\n",
       "Consider the following expression:\n",
       "\n",
       "    >>> expr = root(x, 3) - root(x, 5)\n",
       "\n",
       "We will construct a known value for this expression at x = 3 by selecting\n",
       "the 1-th root for each radical:\n",
       "\n",
       "    >>> expr1 = root(x, 3, 1) - root(x, 5, 1)\n",
       "    >>> v = expr1.subs(x, -3)\n",
       "\n",
       "The ``solve`` function is unable to find any exact roots to this equation:\n",
       "\n",
       "    >>> eq = Eq(expr, v); eq1 = Eq(expr1, v)\n",
       "    >>> solve(eq, check=False), solve(eq1, check=False)\n",
       "    ([], [])\n",
       "\n",
       "The function ``unrad``, however, can be used to get a form of the equation\n",
       "for which numerical roots can be found:\n",
       "\n",
       "    >>> from sympy.solvers.solvers import unrad\n",
       "    >>> from sympy import nroots\n",
       "    >>> e, (p, cov) = unrad(eq)\n",
       "    >>> pvals = nroots(e)\n",
       "    >>> inversion = solve(cov, x)[0]\n",
       "    >>> xvals = [inversion.subs(p, i) for i in pvals]\n",
       "\n",
       "Although ``eq`` or ``eq1`` could have been used to find ``xvals``, the\n",
       "solution can only be verified with ``expr1``:\n",
       "\n",
       "    >>> z = expr - v\n",
       "    >>> [xi.n(chop=1e-9) for xi in xvals if abs(z.subs(x, xi).n()) < 1e-9]\n",
       "    []\n",
       "    >>> z1 = expr1 - v\n",
       "    >>> [xi.n(chop=1e-9) for xi in xvals if abs(z1.subs(x, xi).n()) < 1e-9]\n",
       "    [-3.0]\n",
       "\n",
       "Parameters\n",
       "==========\n",
       "\n",
       "f :\n",
       "    - a single Expr or Poly that must be zero\n",
       "    - an Equality\n",
       "    - a Relational expression\n",
       "    - a Boolean\n",
       "    - iterable of one or more of the above\n",
       "\n",
       "symbols : (object(s) to solve for) specified as\n",
       "    - none given (other non-numeric objects will be used)\n",
       "    - single symbol\n",
       "    - denested list of symbols\n",
       "      (e.g., ``solve(f, x, y)``)\n",
       "    - ordered iterable of symbols\n",
       "      (e.g., ``solve(f, [x, y])``)\n",
       "\n",
       "flags :\n",
       "    dict=True (default is False)\n",
       "        Return list (perhaps empty) of solution mappings.\n",
       "    set=True (default is False)\n",
       "        Return list of symbols and set of tuple(s) of solution(s).\n",
       "    exclude=[] (default)\n",
       "        Do not try to solve for any of the free symbols in exclude;\n",
       "        if expressions are given, the free symbols in them will\n",
       "        be extracted automatically.\n",
       "    check=True (default)\n",
       "        If False, do not do any testing of solutions. This can be\n",
       "        useful if you want to include solutions that make any\n",
       "        denominator zero.\n",
       "    numerical=True (default)\n",
       "        Do a fast numerical check if *f* has only one symbol.\n",
       "    minimal=True (default is False)\n",
       "        A very fast, minimal testing.\n",
       "    warn=True (default is False)\n",
       "        Show a warning if ``checksol()`` could not conclude.\n",
       "    simplify=True (default)\n",
       "        Simplify all but polynomials of order 3 or greater before\n",
       "        returning them and (if check is not False) use the\n",
       "        general simplify function on the solutions and the\n",
       "        expression obtained when they are substituted into the\n",
       "        function which should be zero.\n",
       "    force=True (default is False)\n",
       "        Make positive all symbols without assumptions regarding sign.\n",
       "    rational=True (default)\n",
       "        Recast Floats as Rational; if this option is not used, the\n",
       "        system containing Floats may fail to solve because of issues\n",
       "        with polys. If rational=None, Floats will be recast as\n",
       "        rationals but the answer will be recast as Floats. If the\n",
       "        flag is False then nothing will be done to the Floats.\n",
       "    manual=True (default is False)\n",
       "        Do not use the polys/matrix method to solve a system of\n",
       "        equations, solve them one at a time as you might \"manually.\"\n",
       "    implicit=True (default is False)\n",
       "        Allows ``solve`` to return a solution for a pattern in terms of\n",
       "        other functions that contain that pattern; this is only\n",
       "        needed if the pattern is inside of some invertible function\n",
       "        like cos, exp, ect.\n",
       "    particular=True (default is False)\n",
       "        Instructs ``solve`` to try to find a particular solution to\n",
       "        a linear system with as many zeros as possible; this is very\n",
       "        expensive.\n",
       "    quick=True (default is False; ``particular`` must be True)\n",
       "        Selects a fast heuristic to find a solution with many zeros\n",
       "        whereas a value of False uses the very slow method guaranteed\n",
       "        to find the largest number of zeros possible.\n",
       "    cubics=True (default)\n",
       "        Return explicit solutions when cubic expressions are encountered.\n",
       "        When False, quartics and quintics are disabled, too.\n",
       "    quartics=True (default)\n",
       "        Return explicit solutions when quartic expressions are encountered.\n",
       "        When False, quintics are disabled, too.\n",
       "    quintics=True (default)\n",
       "        Return explicit solutions (if possible) when quintic expressions\n",
       "        are encountered.\n",
       "\n",
       "See Also\n",
       "========\n",
       "\n",
       "rsolve: For solving recurrence relationships\n",
       "dsolve: For solving differential equations\n",
       "\u001b[1;31mFile:\u001b[0m      c:\\users\\mtv\\anaconda3\\lib\\site-packages\\sympy\\solvers\\solvers.py\n",
       "\u001b[1;31mType:\u001b[0m      function"
      ]
     },
     "metadata": {},
     "output_type": "display_data"
    }
   ],
   "source": [
    "?sympy.solve"
   ]
  },
  {
   "cell_type": "markdown",
   "id": "04b664cc-d410-48e8-8f33-772637eadd69",
   "metadata": {},
   "source": [
    "$\\color{green}\\text{Ответ}$: \n",
    "\n",
    "- **Функция `symbols`** создает символьные переменные для использования их в математических выражениях. Данная функция имеет форму записи `sympy.symbols(names, sv)`,где **names** -- имена переменных, а **sv** -- свойства переменных (их параметры).\n",
    "- **Функция `solve`** решает уравнения или системы уравнений. Имеет форму записи `sympy.solve(uravn, perem, sv)`, где **uravn** -- уравнение или система уравнений, **perem** -- переменные, относительно которых решается уравнение; **sv** -- дополнительные параметры."
   ]
  },
  {
   "cell_type": "markdown",
   "id": "74ba1fe9-9ab4-4eca-8443-07513660d895",
   "metadata": {},
   "source": [
    "#### $\\color{green}\\text{Примеры}$: "
   ]
  },
  {
   "cell_type": "code",
   "execution_count": 95,
   "id": "0c0bfaaa-aa4b-4ccd-a1d2-cc3f9413d76a",
   "metadata": {},
   "outputs": [
    {
     "name": "stdout",
     "output_type": "stream",
     "text": [
      "[-2, 3]\n"
     ]
    }
   ],
   "source": [
    "x = sympy.symbols('x')\n",
    "print(sympy.solve(x**2 - x - 6, x))"
   ]
  },
  {
   "cell_type": "code",
   "execution_count": 96,
   "id": "eded5ca3-f08a-45c4-9ace-497fc5890560",
   "metadata": {},
   "outputs": [
    {
     "name": "stdout",
     "output_type": "stream",
     "text": [
      "{x: 2, y: 3}\n"
     ]
    }
   ],
   "source": [
    "x, y = sympy.symbols('x y')\n",
    "print(sympy.solve((x + y - 5, 2*x - y - 1),(x,y)))"
   ]
  },
  {
   "cell_type": "markdown",
   "id": "307eaca1-2d4b-4813-8871-9e288cc43055",
   "metadata": {},
   "source": [
    "$\\color{red}\\text{Выполните}$ Задание 1.2 на основе _Подхода 2_:\n",
    "\n",
    "- для поиска индекса *k*, для которого $s_{y}[k]s_{y}[k+1] < 0$, используйте цикл for\n",
    "по последовательности $s_{y}$ в сочетании с `enumerate` ;\n",
    "- для вычисления $t^*$ используйте построенную формулу.\n"
   ]
  },
  {
   "cell_type": "code",
   "execution_count": 98,
   "id": "3d379ab7-7786-4204-9a09-b083178eff4e",
   "metadata": {},
   "outputs": [
    {
     "name": "stdout",
     "output_type": "stream",
     "text": [
      "t* = 3.215956794761942\n"
     ]
    }
   ],
   "source": [
    "for k, (sk, sk1) in enumerate(zip(s_y_array[:-1], s_y_array[1:])):\n",
    "    if sk * sk1 < 0:\n",
    "        break\n",
    "tk = t_array[k]\n",
    "tk1 = t_array[k+1]\n",
    "sk = s_y_array[k]\n",
    "sk1 = s_y_array[k+1]\n",
    "\n",
    "a = (sk1 - sk) / (tk1 - tk)\n",
    "b = sk - a * tk\n",
    "\n",
    "print(\"t* =\", -b / a)"
   ]
  },
  {
   "cell_type": "markdown",
   "id": "13c24378-e165-4f04-b24f-e03cea42a4bc",
   "metadata": {},
   "source": [
    "# Задание 1.3. Построение секущей, касательной и нормали к графику функции"
   ]
  },
  {
   "cell_type": "markdown",
   "id": "425d03ca-3b20-4550-b37d-84da9cd074bc",
   "metadata": {},
   "source": [
    "$\\color{red}\\text{Постройте}$ в одной графической области:\n",
    "\n",
    "- график траектории движения тела ($s_{x}(t), s_{y}(t)$) для $t \\in [0, T]$ из Задания 1.1;\n",
    "- график секущей прямой к траектории движения тела, проходящей через\n",
    "начальную точку при $t = 0$ и конечную точку при $t = T$ ;\n",
    "- график нормальной прямой к траектории движения тела в начальной точке\n",
    "при $t = 0$.\n",
    "\n",
    "Построение графиков функций осуществляется по координатам точек графика. Для\n",
    "построения графиков прямых линий (секущая, касательная, нормаль) используйте\n",
    "только две точки."
   ]
  },
  {
   "cell_type": "markdown",
   "id": "53906225-fa5d-4c4f-b1f3-f7e07d3c29b9",
   "metadata": {},
   "source": [
    "## Выполнение Задания 1.3"
   ]
  },
  {
   "cell_type": "markdown",
   "id": "e313baee-ad7b-42a3-8d1d-befad91d555e",
   "metadata": {},
   "source": [
    "Подготовим необходимые данные для построения секущей прямой к траектории\n",
    "движения тела.\n",
    "\n",
    "Воспользуемся векторно-параметрическим уравнением прямой для заданной\n",
    "точки $p_{start}$, лежащей на прямой, и заданного направляющего вектора $\\alpha$ $$p(t) = p_{start} + \\alpha t.$$\n",
    "Направляющий вектор можно определить как $\\alpha = p_{end} - p_{start}$, где точка $p_{end}$ лежит на прямой и отлична от точки $p_{start}$.\n",
    "\n",
    "Введем новые переменные для описания начальной точки $p_{start}$ и конечной точки $p_{end}$ через их координаты. Для новых переменных используем тип массив\n",
    "( `ndarray` ) из `numpy` . Представление координат точек в виде массивов иногда\n",
    "эффективнее, чем представление в виде списков, для дальнейшей работы с\n",
    "координатами."
   ]
  },
  {
   "cell_type": "code",
   "execution_count": 104,
   "id": "5ebe9a89-d775-4671-8eee-d5a974744483",
   "metadata": {},
   "outputs": [
    {
     "data": {
      "text/plain": [
       "(array([0., 1.]), array([4.98333333, 3.13994275]))"
      ]
     },
     "execution_count": 104,
     "metadata": {},
     "output_type": "execute_result"
    }
   ],
   "source": [
    "p_start = np.array([s_x_array[0],s_y_array[0]])\n",
    "p_end = np.array([s_x_array[-1],s_y_array[-1]])\n",
    "p_start, p_end"
   ]
  },
  {
   "cell_type": "markdown",
   "id": "5ab49711-c223-4a12-b471-9b6b087d54d0",
   "metadata": {},
   "source": [
    "Вычислим направляющий вектор:"
   ]
  },
  {
   "cell_type": "code",
   "execution_count": 106,
   "id": "60bd8a2b-4c76-4fda-9432-575c675991ab",
   "metadata": {},
   "outputs": [],
   "source": [
    "a = p_end-p_start"
   ]
  },
  {
   "cell_type": "markdown",
   "id": "cb4d1b06-a5e4-4272-a7fe-ef1f96806ba5",
   "metadata": {},
   "source": [
    "Для построения графика прямой достаточно задания двух точек, лежащих на\n",
    "прямой:"
   ]
  },
  {
   "cell_type": "code",
   "execution_count": 108,
   "id": "c70040f7-5f4d-4e69-9b81-3be9e0ee6ff4",
   "metadata": {},
   "outputs": [],
   "source": [
    "p = [p_start + a*t for t in [-1, 2]]\n",
    "p = np.array(p)"
   ]
  },
  {
   "cell_type": "markdown",
   "id": "9c00fc99-a216-43df-82e3-63ce040932fb",
   "metadata": {},
   "source": [
    "Построим график траектории движения тела и график секущей прямой в одной\n",
    "графической области:"
   ]
  },
  {
   "cell_type": "code",
   "execution_count": 110,
   "id": "9342e746-8f03-46d5-a66f-33fd402bc95a",
   "metadata": {
    "scrolled": true
   },
   "outputs": [
    {
     "data": {
      "image/png": "[encoded data removed]",
      "text/plain": [
       "<Figure size 640x480 with 1 Axes>"
      ]
     },
     "metadata": {},
     "output_type": "display_data"
    }
   ],
   "source": [
    "fig = plt.figure()\n",
    "plt.plot(s_x_array,s_y_array,'b-',lw=5)\n",
    "plt.plot(p[:,0],p[:,1],'--',color='red',lw=1) # обратите внимание не специальную\n",
    "plt.xlabel('x (m)'); plt.ylabel('y (m)')\n",
    "plt.axis([-5, s_end+5, 0, h_end+11]); "
   ]
  },
  {
   "cell_type": "markdown",
   "id": "234b6b79-03b8-459d-9cea-b4fd5ac6276c",
   "metadata": {},
   "source": [
    "$\\color{red}\\text{Постройте}$ график касательной прямой к траектории движения\n",
    "тела в одной графической области с траекторией движения и секущей прямой. Для\n",
    "построения касательной прямой воспользуйтесь уравнением прямой по точке\n",
    "$p_{start}(x_{start},y_{start})$ и угловому коэффициенту *k*: $$y = k(x- x_{start}) + y_{start}.$$"
   ]
  },
  {
   "cell_type": "code",
   "execution_count": 112,
   "id": "dd07636a-d8e5-4b3a-9d85-82a20f2e9fa7",
   "metadata": {},
   "outputs": [
    {
     "name": "stdout",
     "output_type": "stream",
     "text": [
      "9.19656504999999\n"
     ]
    }
   ],
   "source": [
    "k = (s_y_array[1] - s_y_array[0]) / (s_x_array[1] - s_x_array[0])\n",
    "print(k)"
   ]
  },
  {
   "cell_type": "code",
   "execution_count": 113,
   "id": "b35d5726-f192-43d7-9d25-2c22f7061a35",
   "metadata": {},
   "outputs": [
    {
     "data": {
      "image/png": "[encoded data removed]",
      "text/plain": [
       "<Figure size 640x480 with 1 Axes>"
      ]
     },
     "metadata": {},
     "output_type": "display_data"
    }
   ],
   "source": [
    "y_kas = k * (s_x_array - s_x_array[0]) + s_y_array[0]\n",
    "fig = plt.figure()\n",
    "plt.plot(s_x_array,s_y_array,'blue',lw=5)\n",
    "plt.plot(p[:,0],p[:,1],'--',color='red',lw=1)\n",
    "plt.plot(s_x_array, y_kas,  '--', color = 'green', lw=2)\n",
    "plt.xlabel('x (m)'); plt.ylabel('y (m)')\n",
    "plt.axis([-5, s_end+5, 0, h_end+11]); "
   ]
  },
  {
   "cell_type": "markdown",
   "id": "e4591063-25b8-4e77-b388-d5db888219c5",
   "metadata": {},
   "source": [
    "$\\color{red}\\text{Поясните}$  в документе, как Вы определяете угловой коэффициент *k*.\n",
    "\n",
    "$\\color{green}\\text{Ответ}$: Производную от функции, имея 2 массива со значениями $x$ и $y$, можно достаточно точно вычислить по формуле $k = \\frac{y_{i+1} - y_{i}}{x_{i+1} - x_{i}}$"
   ]
  },
  {
   "cell_type": "markdown",
   "id": "233d6018-f505-4e90-a756-d4937f29a746",
   "metadata": {},
   "source": [
    "$\\color{red}\\text{Сформулируйте}$ в документе уравнение нормальной прямой к\n",
    "траектории движения тела в момент времени $t = 0$, используя свойство\n",
    "перпендикуляртности каксательной и нормальной прямых."
   ]
  },
  {
   "cell_type": "markdown",
   "id": "89043881-1c9d-455f-b5fd-9903b8a4dcfd",
   "metadata": {},
   "source": [
    "$\\color{green}\\text{Ответ}:$ уравнение нормали к траектории полета тела в точке $t$ будет иметь тот же вид, что и график касательной в этой точке, за исключением того, что по свойству перпендикулятности прямых коэф. $k$ будет равнен $-1/k$. Тогда уравнение нормали примет вид: $$y = k1(x- x_{start}) + y_{start},$$ где $k1 = -1/k$."
   ]
  },
  {
   "cell_type": "markdown",
   "id": "ab08ab9c-874c-4ee6-b64e-ce48c94bd028",
   "metadata": {},
   "source": [
    "$\\color{red}\\text{Постройте}$ график нормальной прямой к траектории движения\n",
    "тела в момент времени $t = 0$ в одной графической области с траекторией\n",
    "движения, секущей прямой и касательной прямой.\n"
   ]
  },
  {
   "cell_type": "code",
   "execution_count": 118,
   "id": "a36c6765-8c87-4841-bfbb-b440a201c053",
   "metadata": {},
   "outputs": [],
   "source": [
    "k1= -1/k\n",
    "y_norm = k1 * (s_x_array - s_x_array[0]) + s_y_array[0]"
   ]
  },
  {
   "cell_type": "code",
   "execution_count": 120,
   "id": "b719f88e-d400-46c7-ba14-f7561ea896a4",
   "metadata": {
    "scrolled": true
   },
   "outputs": [
    {
     "data": {
      "image/png": "[encoded data removed]",
      "text/plain": [
       "<Figure size 640x480 with 1 Axes>"
      ]
     },
     "metadata": {},
     "output_type": "display_data"
    }
   ],
   "source": [
    "fig = plt.figure()\n",
    "plt.plot(s_x_array,s_y_array,'b-',lw=5)\n",
    "plt.plot(s_x_array, y_kas,  '--', color = 'red', lw=2)\n",
    "plt.plot(p[:,0],p[:,1],'--',color='purple',lw=1)\n",
    "plt.plot(s_x_array, y_norm,'--',color='green',lw=2)\n",
    "plt.xlabel('x (m)'); plt.ylabel('y (m)')\n",
    "plt.axis([-10, s_end+5, 0, h_end+11]); "
   ]
  },
  {
   "cell_type": "markdown",
   "id": "268524e8-5ed4-42cd-a340-32414cd7d936",
   "metadata": {},
   "source": [
    "# Задание 1.4. Построение графиков функций, (Вариант 4)"
   ]
  },
  {
   "cell_type": "markdown",
   "id": "2c487708-9803-4837-821f-c0a711a208c5",
   "metadata": {},
   "source": [
    "$\\color{red}\\text{Постройте}$ графики функций на плоскости по координатам точек\n",
    "согласно варианту. Функция задана:\n",
    "\n",
    "a) полярным уравнением $\\rho = \\rho(\\phi)$ в полярной системе координат $(\\phi, \\rho)$;\n",
    "\n",
    "b) параметрическими уравнениями $x = x(t), y = y(t)$ в декартовой системе координат $(x,y)$.\n",
    "\n",
    "Построение графиков функций осуществляется по координатам точек графика. Для\n",
    "этого нужно создать последовательность значений $x(\\phi)$-координат точек графика\n",
    "функции и последовательность соответствующих значений $y(\\phi)$-координат точек\n",
    "графика функции.\n"
   ]
  },
  {
   "cell_type": "markdown",
   "id": "8c6b0ef1-695d-4608-b019-370b55c7063c",
   "metadata": {},
   "source": [
    "a) $\\rho = \\alpha sin(2k\\phi) , \\alpha \\in \\mathbb{R},  k \\in \\mathbb{N}$\n",
    "\n",
    "b) $x = ln(t + \\sqrt{t^2 +1})$, $y = t\\sqrt{t^2 +1}$"
   ]
  },
  {
   "cell_type": "code",
   "execution_count": 162,
   "id": "386df16b-082b-4747-8d41-83709e9b317c",
   "metadata": {},
   "outputs": [
    {
     "data": {
      "image/png": "[encoded data removed]",
      "text/plain": [
       "<Figure size 640x480 with 1 Axes>"
      ]
     },
     "metadata": {},
     "output_type": "display_data"
    }
   ],
   "source": [
    "k =1\n",
    "a = 1.1\n",
    "phi = np.arange(0, np.pi*2, 0.04)\n",
    "plt.figure()\n",
    "plt.axes(projection='polar')\n",
    "r = a*np.sin(2*k*phi)\n",
    "plt.plot(phi + (r<0)*np.pi,abs(r),'g.');"
   ]
  },
  {
   "cell_type": "code",
   "execution_count": 125,
   "id": "38a21696-5962-40d4-b47e-0fa22d552dee",
   "metadata": {},
   "outputs": [],
   "source": [
    "t_param = np.arange(-5, 5, 0.1)\n",
    "x = np.log(t_param + np.sqrt(t_param**2 + 1))\n",
    "y = t_param * np.sqrt(t_param**2 + 1)"
   ]
  },
  {
   "cell_type": "code",
   "execution_count": 126,
   "id": "c3bee05e-c4b8-44d1-826d-0fe2eb424e1b",
   "metadata": {},
   "outputs": [
    {
     "data": {
      "image/png": "[encoded data removed]",
      "text/plain": [
       "<Figure size 640x480 with 1 Axes>"
      ]
     },
     "metadata": {},
     "output_type": "display_data"
    }
   ],
   "source": [
    "plt.figure()\n",
    "plt.plot(x,y,'b-',lw=2)\n",
    "plt.xlabel('x (m)'); plt.ylabel('y (m)')\n",
    "plt.axis([-10, s_end+5, -40, 40]); "
   ]
  }
 ],
 "metadata": {
  "kernelspec": {
   "display_name": "Python [conda env:base] *",
   "language": "python",
   "name": "conda-base-py"
  },
  "language_info": {
   "codemirror_mode": {
    "name": "ipython",
    "version": 3
   },
   "file_extension": ".py",
   "mimetype": "text/x-python",
   "name": "python",
   "nbconvert_exporter": "python",
   "pygments_lexer": "ipython3",
   "version": "3.12.7"
  }
 },
 "nbformat": 4,
 "nbformat_minor": 5
}
