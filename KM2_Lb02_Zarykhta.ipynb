{
 "cells": [
  {
   "cell_type": "markdown",
   "id": "f7deeebb-2025-460a-89b9-5a8588439b9e",
   "metadata": {},
   "source": [
    "# Лабораторная работа 2"
   ]
  },
  {
   "cell_type": "markdown",
   "id": "efe356c4-b9c9-4ab9-91a7-e9490bf9141f",
   "metadata": {},
   "source": [
    "# Встроенные типы объектов в Pyhon"
   ]
  },
  {
   "cell_type": "markdown",
   "id": "db6cce1f-b8a4-436d-9b0f-3e2af3808ce7",
   "metadata": {},
   "source": [
    "Зарихта Матвей Дмитриевич, 17 апреля 2025"
   ]
  },
  {
   "cell_type": "markdown",
   "id": "4017096c-8f7f-42f9-a83a-51c415372264",
   "metadata": {},
   "source": [
    "## 1. Построение иерархии встроенных типов в Python"
   ]
  },
  {
   "cell_type": "markdown",
   "id": "6e7262b3-768a-40ad-9f07-fd9afcd5512d",
   "metadata": {},
   "source": [
    "**object (объекты)**\n",
    "- numbers\n",
    "- int\n",
    "- float\n",
    "- complex\n",
    "- bool\n",
    "- str\n",
    "- bytes\n",
    "- bytearray\n",
    "\n",
    "**collections (коллекции)**\n",
    "- list (изменяемый, упорядоченный)\n",
    "- tuple (неизменяемый, упорядоченный)\n",
    "- dict (изменяемый, неупорядоченный*)\n",
    "- set (изменяемый, неупорядоченный)\n",
    "- frozenset (неизменяемый, неупорядоченный)\n",
    "\n",
    "**NoneType**"
   ]
  },
  {
   "cell_type": "markdown",
   "id": "9f620e09-88fb-4f00-b1ae-d875fae6bc5e",
   "metadata": {},
   "source": [
    "## 2. Проработка примеров, представленных в лекционном файле"
   ]
  },
  {
   "cell_type": "markdown",
   "id": "134fb671-a199-4bbb-b91c-df652f101d36",
   "metadata": {},
   "source": [
    "### <u>2.2 Встроенные типы объектов, представляющих числа</u>"
   ]
  },
  {
   "cell_type": "code",
   "execution_count": 28,
   "id": "91c7f949-82fb-44a7-aef5-20df93145fd6",
   "metadata": {},
   "outputs": [
    {
     "name": "stdout",
     "output_type": "stream",
     "text": [
      "0.1\n",
      "2/3\n"
     ]
    }
   ],
   "source": [
    "import decimal as dec\n",
    "import fractions as fra\n",
    "print(dec.Decimal('0.1'))\n",
    "print(fra.Fraction('2/3'))"
   ]
  },
  {
   "cell_type": "markdown",
   "id": "7f87b3c8-9e3a-4f41-a3a4-b2800564980f",
   "metadata": {},
   "source": [
    "Вычисления с числами типа\n",
    "decimal могут иметь лучшую точность, чем вычисления с числами типа float.\n",
    "\n",
    "Рациональные числа ( fraction ) явно хранят числитель и\n",
    "знаменатель, что позволяет избежать ряда неточностей и ограничений в\n",
    "вычислениях с числами с плавающей точкой ( float , decimal )."
   ]
  },
  {
   "cell_type": "markdown",
   "id": "92fd2748-6e6b-49a8-86f3-08fc24b5fe16",
   "metadata": {},
   "source": [
    "### <u>2.3 Встроенные типы последовательностей: str, list, tuple\n",
    "</u>"
   ]
  },
  {
   "cell_type": "code",
   "execution_count": 53,
   "id": "01373825-7c1c-4668-ba7a-e9fc3590d491",
   "metadata": {},
   "outputs": [],
   "source": [
    "S = 'spam'"
   ]
  },
  {
   "cell_type": "code",
   "execution_count": 55,
   "id": "3d43f2c7-a67f-46d6-822d-9fe3a77fca8a",
   "metadata": {},
   "outputs": [
    {
     "data": {
      "text/plain": [
       "'slam'"
      ]
     },
     "execution_count": 55,
     "metadata": {},
     "output_type": "execute_result"
    }
   ],
   "source": [
    "S[:1] + 'l' + S[2:]"
   ]
  },
  {
   "cell_type": "markdown",
   "id": "f288fddc-cbd5-46f8-be2a-43ef6d8e350d",
   "metadata": {},
   "source": [
    "Присваивание по индексу использовать нельзя, т.к. строки неизменяемы."
   ]
  },
  {
   "cell_type": "markdown",
   "id": "7da36108-651c-47b0-a375-e1831441e342",
   "metadata": {},
   "source": [
    "<u>ДЛЯ СПИСКА:</u>"
   ]
  },
  {
   "cell_type": "code",
   "execution_count": 61,
   "id": "2a9ef145-e020-4df4-8767-22e5f6e85ab8",
   "metadata": {},
   "outputs": [
    {
     "name": "stdout",
     "output_type": "stream",
     "text": [
      "['s', 'l', 'a', 'm']\n"
     ]
    }
   ],
   "source": [
    "list1 = ['s', 'p', 'a', 'm']\n",
    "list1 = list1[:1] + ['l'] + list1[2:]\n",
    "print(list1)"
   ]
  },
  {
   "cell_type": "code",
   "execution_count": 67,
   "id": "1609e77e-133e-482c-8829-5b7858f5b7c3",
   "metadata": {},
   "outputs": [
    {
     "name": "stdout",
     "output_type": "stream",
     "text": [
      "['s', 'l', 'a', 'm']\n"
     ]
    }
   ],
   "source": [
    "list1 = ['s', 'p', 'a', 'm']\n",
    "list1[1] ='l'\n",
    "print(list1)"
   ]
  },
  {
   "cell_type": "markdown",
   "id": "65bb19a5-542c-4b02-98d0-77100f9d1723",
   "metadata": {},
   "source": [
    "<u>ДЛЯ КОРТЕЖА:</u>"
   ]
  },
  {
   "cell_type": "code",
   "execution_count": 70,
   "id": "798399f0-4ba7-4217-8bb5-2f559ca0f259",
   "metadata": {},
   "outputs": [],
   "source": [
    "tuple1 = ('s', 'p', 'a', 'm')\n",
    "tuple1 = tuple1[:1] + ('l',) + tuple1[2:]"
   ]
  },
  {
   "cell_type": "markdown",
   "id": "367d2434-b6a9-45f9-9940-53f41435e3a2",
   "metadata": {},
   "source": [
    "Присваивание по индексу использовать нельзя, т.к. кортежи неизменяемы."
   ]
  },
  {
   "cell_type": "markdown",
   "id": "6a1abd47-e63d-49c7-a9d5-ad92029f7326",
   "metadata": {},
   "source": [
    "### <u>2.4 Встроенный тип отображения: dict</u>"
   ]
  },
  {
   "cell_type": "code",
   "execution_count": 30,
   "id": "5c0c1841-43ce-4f56-8bee-1ea8ab364523",
   "metadata": {},
   "outputs": [],
   "source": [
    "dict1 = {'names': {'fam': 'zarykhta','im1': 'matsvey','im2': 'dzmytryevich'},'age': 19,'plow': 'москоу сити арбитраж','adr': 'mog. 18-23','eladr': 'tcheburek227@gmail.com','tel': '+375259451810'}"
   ]
  },
  {
   "cell_type": "code",
   "execution_count": 38,
   "id": "15d5d807-7715-454a-aad5-1d0b64279239",
   "metadata": {},
   "outputs": [
    {
     "name": "stdout",
     "output_type": "stream",
     "text": [
      "zarykhta\n",
      "matsvey\n",
      "dzmytryevich\n",
      "19\n",
      "москоу сити арбитраж\n",
      "mog. 18-23\n",
      "tcheburek227@gmail.com\n",
      "+375259451810\n"
     ]
    }
   ],
   "source": [
    "print(dict1['names']['fam'])\n",
    "print(dict1['names']['im1'])\n",
    "print(dict1['names']['im2'])\n",
    "print(dict1['age'])\n",
    "print(dict1['plow'])\n",
    "print(dict1['adr'])\n",
    "print(dict1['eladr'])\n",
    "print(dict1['tel'])"
   ]
  },
  {
   "cell_type": "markdown",
   "id": "17dc295b-5d4f-4aca-b2c0-b4a87db3c6cc",
   "metadata": {},
   "source": [
    "т.к. порядок здесь не фиксирован, да и поиск данных лучше по ключам, чем по индексам, то словарь более осмысленный)"
   ]
  },
  {
   "cell_type": "markdown",
   "id": "e392d58e-de4f-4bcf-8fb1-9a7b7d82a862",
   "metadata": {},
   "source": [
    "### <u>2.5 Встроенный тип множества: set</u>"
   ]
  },
  {
   "cell_type": "code",
   "execution_count": 42,
   "id": "f6f3e555-f9af-4bee-8bda-1394ffe143ac",
   "metadata": {},
   "outputs": [],
   "source": [
    "str1 = 'mama ama kriminal'"
   ]
  },
  {
   "cell_type": "code",
   "execution_count": 50,
   "id": "95684716-b752-4511-97fc-206b029463b1",
   "metadata": {},
   "outputs": [
    {
     "name": "stdout",
     "output_type": "stream",
     "text": [
      "rain mkl\n"
     ]
    }
   ],
   "source": [
    "print(''.join(set(str1)))"
   ]
  },
  {
   "cell_type": "markdown",
   "id": "29a2c182-5089-4139-a004-4bbe0cf46130",
   "metadata": {},
   "source": [
    "### <u>2.8. Интерфейс объекта: операции и методы</u>"
   ]
  },
  {
   "cell_type": "code",
   "execution_count": 67,
   "id": "194e71f9-253a-4640-84f4-174d1eede5c0",
   "metadata": {},
   "outputs": [
    {
     "name": "stdout",
     "output_type": "stream",
     "text": [
      "4 0\n"
     ]
    }
   ],
   "source": [
    "str2 = 'aaabordage'\n",
    "print(str2.count('a'),\n",
    "str2.index('a'))"
   ]
  },
  {
   "cell_type": "code",
   "execution_count": 69,
   "id": "f548948d-8775-4194-a7ea-d13c73f03c6f",
   "metadata": {},
   "outputs": [
    {
     "name": "stdout",
     "output_type": "stream",
     "text": [
      "3 1\n"
     ]
    }
   ],
   "source": [
    "list1 = ('uga', 'buga', 'apple', 'banana', 'uga', 'uga')\n",
    "print(list1.count('uga'),list1.index('buga'))"
   ]
  },
  {
   "cell_type": "code",
   "execution_count": 71,
   "id": "1057cb76-3465-4e57-93a0-3721e7080edb",
   "metadata": {},
   "outputs": [
    {
     "name": "stdout",
     "output_type": "stream",
     "text": [
      "2 2\n"
     ]
    }
   ],
   "source": [
    "tuple1 = ('pasxa', 'skoro', 'kak', 'je', 'kak', 'tak')\n",
    "print(tuple1.count('kak'), tuple1.index('kak'))"
   ]
  },
  {
   "cell_type": "markdown",
   "id": "1d6d32a0-b04d-4a83-95a0-c615fde4715c",
   "metadata": {},
   "source": [
    "**=====================================**"
   ]
  },
  {
   "cell_type": "code",
   "execution_count": 186,
   "id": "4f992536-c4a3-4039-aa57-b593305b802f",
   "metadata": {
    "scrolled": true
   },
   "outputs": [
    {
     "name": "stdout",
     "output_type": "stream",
     "text": [
      "tut_nado_napisatb_chtoto_umnoe,_no_mne_vpadlu\n"
     ]
    }
   ],
   "source": [
    "str2 = '    TUT NADO napisaTb CHTOTO UMNOE, NO mne Vpadlu'\n",
    "str12 = str2.strip().lower().replace(\" \", \"_\")\n",
    "print(str12)"
   ]
  },
  {
   "cell_type": "markdown",
   "id": "e39cab90-764e-47a7-924d-b2f6605ebffd",
   "metadata": {},
   "source": [
    "1) <u>strip</u>:\n",
    "   - удаляет пробелы в начале и в конце строки\n",
    "   - можно указать символы, который нужно удалить (strip(\", \"))\n",
    "2) <u>lower</u>:\n",
    "   - все символы строки в нижний регистр\n",
    "3) <u>replace(sim1, sim2)</u>:\n",
    "   - заменяет подстроки sim1 на подстроку sim2"
   ]
  },
  {
   "cell_type": "markdown",
   "id": "40e0406f-0e1d-4a7d-ae3a-cf98fc0a7390",
   "metadata": {},
   "source": [
    "**=====================================**"
   ]
  },
  {
   "cell_type": "code",
   "execution_count": 176,
   "id": "0fd221d3-160c-48a2-9398-19d97a2bfd8a",
   "metadata": {},
   "outputs": [
    {
     "data": {
      "text/plain": [
       "[12, 2, 34, 23]"
      ]
     },
     "execution_count": 176,
     "metadata": {},
     "output_type": "execute_result"
    }
   ],
   "source": [
    "s1 = [12, 2, 34]\n",
    "s1.append(23)\n",
    "s1"
   ]
  },
  {
   "cell_type": "code",
   "execution_count": 178,
   "id": "6c175a52-e594-4bf9-bd72-8a79296bb7bc",
   "metadata": {},
   "outputs": [
    {
     "data": {
      "text/plain": [
       "[12, 2, 34, 23, 2, 212, 85]"
      ]
     },
     "execution_count": 178,
     "metadata": {},
     "output_type": "execute_result"
    }
   ],
   "source": [
    "pasxa = [2, 212, 85]\n",
    "s1.extend(pasxa)\n",
    "s1"
   ]
  },
  {
   "cell_type": "code",
   "execution_count": 180,
   "id": "359a3f72-5159-42e8-bcec-9c7806f637ae",
   "metadata": {},
   "outputs": [
    {
     "data": {
      "text/plain": [
       "[0, 12, 2, 34, 23, 2, 212, 85]"
      ]
     },
     "execution_count": 180,
     "metadata": {},
     "output_type": "execute_result"
    }
   ],
   "source": [
    "s1.insert(0, 0)\n",
    "s1"
   ]
  },
  {
   "cell_type": "markdown",
   "id": "25c5315c-d720-4051-9332-ef9fe9889cc6",
   "metadata": {},
   "source": [
    "**=====================================**"
   ]
  },
  {
   "cell_type": "code",
   "execution_count": 216,
   "id": "20a0436e-f9e2-4afb-a652-28934e829528",
   "metadata": {},
   "outputs": [],
   "source": [
    "list2 = ['ps', '1', '2232', 'etewed']"
   ]
  },
  {
   "cell_type": "code",
   "execution_count": 220,
   "id": "554df224-13d3-44ec-9249-938915fe6730",
   "metadata": {},
   "outputs": [
    {
     "name": "stdout",
     "output_type": "stream",
     "text": [
      "['1', 'ps', '2232', 'etewed']\n"
     ]
    }
   ],
   "source": [
    "list2.sort(key = len)\n",
    "print(list2)"
   ]
  },
  {
   "cell_type": "markdown",
   "id": "ae7ba594-d9e6-4ce3-9a1f-7ef5c8e838eb",
   "metadata": {},
   "source": [
    "метод sort() сортирует последовательность по возрастанию. в данном случае список сортируется по длине, т.к. в качестве key была указана длина"
   ]
  },
  {
   "cell_type": "markdown",
   "id": "05064e9d-e0b5-4439-b4c2-6e1d36acd32b",
   "metadata": {},
   "source": [
    "**=====================================**"
   ]
  },
  {
   "cell_type": "code",
   "execution_count": 225,
   "id": "0d59a293-a567-4c4a-980f-1f0181398085",
   "metadata": {},
   "outputs": [],
   "source": [
    "dict1 = {i: 'tapochek' for i in range(100)}"
   ]
  },
  {
   "cell_type": "code",
   "execution_count": 227,
   "id": "d2adb9c9-005c-44cf-b8ac-7ad2ccda4cae",
   "metadata": {},
   "outputs": [
    {
     "name": "stdout",
     "output_type": "stream",
     "text": [
      "{0: 'tapochek', 1: 'tapochek', 2: 'tapochek', 3: 'tapochek', 4: 'tapochek', 5: 'tapochek', 6: 'tapochek', 7: 'tapochek', 8: 'tapochek', 9: 'tapochek', 10: 'tapochek', 11: 'tapochek', 12: 'tapochek', 13: 'tapochek', 14: 'tapochek', 15: 'tapochek', 16: 'tapochek', 17: 'tapochek', 18: 'tapochek', 19: 'tapochek', 20: 'tapochek', 21: 'tapochek', 22: 'tapochek', 23: 'tapochek', 24: 'tapochek', 25: 'tapochek', 26: 'tapochek', 27: 'tapochek', 28: 'tapochek', 29: 'tapochek', 30: 'tapochek', 31: 'tapochek', 32: 'tapochek', 33: 'tapochek', 34: 'tapochek', 35: 'tapochek', 36: 'tapochek', 37: 'tapochek', 38: 'tapochek', 39: 'tapochek', 40: 'tapochek', 41: 'tapochek', 42: 'tapochek', 43: 'tapochek', 44: 'tapochek', 45: 'tapochek', 46: 'tapochek', 47: 'tapochek', 48: 'tapochek', 49: 'tapochek', 50: 'tapochek', 51: 'tapochek', 52: 'tapochek', 53: 'tapochek', 54: 'tapochek', 55: 'tapochek', 56: 'tapochek', 57: 'tapochek', 58: 'tapochek', 59: 'tapochek', 60: 'tapochek', 61: 'tapochek', 62: 'tapochek', 63: 'tapochek', 64: 'tapochek', 65: 'tapochek', 66: 'tapochek', 67: 'tapochek', 68: 'tapochek', 69: 'tapochek', 70: 'tapochek', 71: 'tapochek', 72: 'tapochek', 73: 'tapochek', 74: 'tapochek', 75: 'tapochek', 76: 'tapochek', 77: 'tapochek', 78: 'tapochek', 79: 'tapochek', 80: 'tapochek', 81: 'tapochek', 82: 'tapochek', 83: 'tapochek', 84: 'tapochek', 85: 'tapochek', 86: 'tapochek', 87: 'tapochek', 88: 'tapochek', 89: 'tapochek', 90: 'tapochek', 91: 'tapochek', 92: 'tapochek', 93: 'tapochek', 94: 'tapochek', 95: 'tapochek', 96: 'tapochek', 97: 'tapochek', 98: 'tapochek', 99: 'tapochek'}\n"
     ]
    }
   ],
   "source": [
    "print(dict1)"
   ]
  },
  {
   "cell_type": "markdown",
   "id": "77eca879-00d2-4115-a7e6-fb01f3d1054f",
   "metadata": {},
   "source": [
    "### <u>2.9 Переменная</u>"
   ]
  },
  {
   "cell_type": "code",
   "execution_count": 234,
   "id": "1bf58f8c-f499-4033-98d5-02615e8822a2",
   "metadata": {},
   "outputs": [
    {
     "name": "stdout",
     "output_type": "stream",
     "text": [
      "[1, 2, 3, [...]]\n"
     ]
    }
   ],
   "source": [
    "list23 = [1,2,3]\n",
    "list23.append(list23)\n",
    "print(list23) "
   ]
  },
  {
   "cell_type": "code",
   "execution_count": 242,
   "id": "13725904-40c9-4bab-a43d-fa751716ffc2",
   "metadata": {},
   "outputs": [
    {
     "name": "stdout",
     "output_type": "stream",
     "text": [
      "{'a': 'b', 'c': {...}}\n"
     ]
    }
   ],
   "source": [
    "dict2 = {'a': 'b'}\n",
    "dict2['c'] = dict2 \n",
    "print(dict2) "
   ]
  },
  {
   "cell_type": "markdown",
   "id": "8708490c-1535-46ae-a041-3eb06f7a84ce",
   "metadata": {},
   "source": [
    "**=====================================**"
   ]
  },
  {
   "cell_type": "code",
   "execution_count": 252,
   "id": "b78174a6-7909-4295-8441-4ee95a89fe3f",
   "metadata": {},
   "outputs": [
    {
     "data": {
      "text/plain": [
       "5"
      ]
     },
     "execution_count": 252,
     "metadata": {},
     "output_type": "execute_result"
    }
   ],
   "source": [
    "a = b = c = d = [42]\n",
    "import sys\n",
    "sys.getrefcount(a)"
   ]
  },
  {
   "cell_type": "markdown",
   "id": "992f8c95-47bd-4441-9df0-f87a9021e42e",
   "metadata": {},
   "source": [
    "также учитывается временная ссылка от getrefcount()"
   ]
  },
  {
   "cell_type": "markdown",
   "id": "783d9ce3-0e9e-4bc8-b4cc-72a3d751e1e0",
   "metadata": {},
   "source": [
    "**=====================================**"
   ]
  },
  {
   "cell_type": "code",
   "execution_count": 261,
   "id": "7e95da44-3d5d-49d2-8d49-27decf45f712",
   "metadata": {},
   "outputs": [
    {
     "name": "stdout",
     "output_type": "stream",
     "text": [
      "[1, 2, 3] [1, 2, 3] [1, 2, 3]\n"
     ]
    }
   ],
   "source": [
    "orig = [1, 2, 3]\n",
    "copy1 = orig.copy() \n",
    "copy2 = orig[:]   \n",
    "copy3 = list(orig)\n",
    "print(copy1, copy2, copy3) "
   ]
  },
  {
   "cell_type": "markdown",
   "id": "9c851280-4108-4e7c-b848-e725cd905098",
   "metadata": {},
   "source": [
    "### <u>2.10 Выражение спискового включения\n",
    "</u>"
   ]
  },
  {
   "cell_type": "code",
   "execution_count": 265,
   "id": "c0f23119-4ad4-4c98-8a0d-207f60f2f917",
   "metadata": {},
   "outputs": [
    {
     "name": "stdout",
     "output_type": "stream",
     "text": [
      "{4, 6, 8, 10, 12}\n"
     ]
    }
   ],
   "source": [
    "num = {1, 2, 3, 4, 5, 6, 7, 8, 9, 10}\n",
    "newnum = {x + 2 for x in num if x % 2 == 0}\n",
    "print(newnum)"
   ]
  },
  {
   "cell_type": "markdown",
   "id": "1acf67a1-cf95-4fe1-9605-517809ee2fec",
   "metadata": {},
   "source": [
    "**=====================================**"
   ]
  },
  {
   "cell_type": "code",
   "execution_count": 269,
   "id": "47e05d10-6817-421c-abb9-1377b1aa7dd0",
   "metadata": {},
   "outputs": [
    {
     "name": "stdout",
     "output_type": "stream",
     "text": [
      "[[0, 1, 2, 3, 4, 5, 6, 7], [6, 7, 8, 9, 10, 11, 12, 13], [12, 13, 14, 15, 16, 17, 18, 19], [18, 19, 20, 21, 22, 23, 24, 25], [24, 25, 26, 27, 28, 29, 30, 31], [30, 31, 32, 33, 34, 35, 36, 37], [36, 37, 38, 39, 40, 41, 42, 43]]\n"
     ]
    }
   ],
   "source": [
    "matrix = [[i * 6 + j for j in range(8)] for i in range(7)]\n",
    "print(matrix)"
   ]
  },
  {
   "cell_type": "code",
   "execution_count": 271,
   "id": "a0285f08-1737-47c2-8f3e-5b3692af6dfa",
   "metadata": {},
   "outputs": [
    {
     "name": "stdout",
     "output_type": "stream",
     "text": [
      "[[ 0  1  2  3  4  5  6  7]\n",
      " [ 8  9 10 11 12 13 14 15]\n",
      " [16 17 18 19 20 21 22 23]\n",
      " [24 25 26 27 28 29 30 31]\n",
      " [32 33 34 35 36 37 38 39]\n",
      " [40 41 42 43 44 45 46 47]\n",
      " [48 49 50 51 52 53 54 55]]\n"
     ]
    }
   ],
   "source": [
    "import numpy\n",
    "matrix = numpy.arange(56).reshape(7, 8)\n",
    "print(matrix)"
   ]
  },
  {
   "cell_type": "markdown",
   "id": "93ffcde5-303a-47a0-9c61-21a53c4233bb",
   "metadata": {},
   "source": [
    "**=====================================**"
   ]
  },
  {
   "cell_type": "code",
   "execution_count": 283,
   "id": "9a8c7e86-9548-4067-a6fc-f10b6e9765f3",
   "metadata": {},
   "outputs": [
    {
     "name": "stdout",
     "output_type": "stream",
     "text": [
      "{'a': {1: 'a', 2: 'a', 3: 'a'}, 'b': {1: 'b', 2: 'b', 3: 'b'}}\n"
     ]
    }
   ],
   "source": [
    "key = ['a', 'b']\n",
    "subk = [1, 2, 3]\n",
    "dict1 = {k: {sk: k for sk in subk}for k in key}\n",
    "print(dict1)"
   ]
  },
  {
   "cell_type": "markdown",
   "id": "01f42311-7ca1-48c2-9e71-cf84acb9789d",
   "metadata": {},
   "source": [
    "### <u>2.11 Форматированный вывод строк</u>"
   ]
  },
  {
   "cell_type": "code",
   "execution_count": 315,
   "id": "f2567b1c-5e80-4367-bf87-cdf6662b26da",
   "metadata": {},
   "outputs": [
    {
     "name": "stdout",
     "output_type": "stream",
     "text": [
      "name= snejok , rank=  grajdanskyj   \n"
     ]
    }
   ],
   "source": [
    "rank = 'grajdanskyj'\n",
    "name = 'snejok'\n",
    "print(f'{name=:^8}, {rank=:^16}')"
   ]
  },
  {
   "cell_type": "code",
   "execution_count": 327,
   "id": "70d1a247-7b94-44b2-ae04-7a6f819b4f9d",
   "metadata": {},
   "outputs": [
    {
     "name": "stdout",
     "output_type": "stream",
     "text": [
      "name=  snejok, rank=   grajdanskyj\n"
     ]
    }
   ],
   "source": [
    "print('name=%8s, rank=%14s' % (name, rank))"
   ]
  },
  {
   "cell_type": "code",
   "execution_count": 329,
   "id": "b5eb5bd6-3f30-416d-99ed-a055e3234fcc",
   "metadata": {},
   "outputs": [
    {
     "name": "stdout",
     "output_type": "stream",
     "text": [
      "name= snejok , age=  grajdanskyj   \n"
     ]
    }
   ],
   "source": [
    "print('name={:^8}, age={:^16}'.format(name, rank))"
   ]
  },
  {
   "cell_type": "markdown",
   "id": "5b69623c-dd9c-413e-b1ad-8f8ad83d720f",
   "metadata": {},
   "source": [
    "**=====================================**"
   ]
  },
  {
   "cell_type": "code",
   "execution_count": 342,
   "id": "be27d4ac-b06d-4de0-9663-7e33e9995305",
   "metadata": {},
   "outputs": [
    {
     "name": "stdout",
     "output_type": "stream",
     "text": [
      "x**y =81.00, (x * y)=012\n"
     ]
    }
   ],
   "source": [
    "x = 3\n",
    "y = 4\n",
    "print(f'{x**y =:.2f}, {(x * y)=:03d}')"
   ]
  },
  {
   "cell_type": "code",
   "execution_count": 350,
   "id": "4256fd76-18e9-4f5f-973c-f00386024595",
   "metadata": {},
   "outputs": [
    {
     "name": "stdout",
     "output_type": "stream",
     "text": [
      "x**y=81.00, x + y=07\n"
     ]
    }
   ],
   "source": [
    "print('x**y=%.2f, x + y=%02d' % (x**y, x + y))"
   ]
  },
  {
   "cell_type": "code",
   "execution_count": 352,
   "id": "7501e083-bc85-4a91-bae6-559b2807f4de",
   "metadata": {},
   "outputs": [
    {
     "name": "stdout",
     "output_type": "stream",
     "text": [
      "x**y=81.00, x + y=07\n"
     ]
    }
   ],
   "source": [
    "print('x**y={:.2f}, x + y={:02d}'.format(x**y, x + y))"
   ]
  },
  {
   "cell_type": "markdown",
   "id": "7e162706-a1af-4f4b-9409-a1b3e96c3992",
   "metadata": {},
   "source": [
    "### <u>2.12 Файловый объект\n",
    "</u>"
   ]
  },
  {
   "cell_type": "code",
   "execution_count": 360,
   "id": "b5b1e1fa-e05c-43d1-87d1-127783650eb2",
   "metadata": {},
   "outputs": [
    {
     "data": {
      "text/plain": [
       "\"file = open('tmp.txt')\\nfile.readline()\\nfile.close()\""
      ]
     },
     "execution_count": 360,
     "metadata": {},
     "output_type": "execute_result"
    }
   ],
   "source": [
    "'''file = open('tmp.txt')\n",
    "file.readline()\n",
    "file.close()'''"
   ]
  },
  {
   "cell_type": "code",
   "execution_count": 358,
   "id": "bd35e00d-8dad-4c0f-86b7-ddb955be6600",
   "metadata": {
    "scrolled": true
   },
   "outputs": [
    {
     "data": {
      "text/plain": [
       "\"file = open('tmp.txt','a') \\nfile.write(str(100) + '\\n')\\nfile.close()\\nfile = open('tmp.txt')\\nprint(file.read())\\nfile.close()\""
      ]
     },
     "execution_count": 358,
     "metadata": {},
     "output_type": "execute_result"
    }
   ],
   "source": [
    "'''file = open('tmp.txt','a') \n",
    "file.write(str(100) + '\\n')\n",
    "file.close()\n",
    "file = open('tmp.txt')\n",
    "print(file.read())\n",
    "file.close()'''"
   ]
  },
  {
   "cell_type": "code",
   "execution_count": 362,
   "id": "d2675cb4-e654-4e62-b41a-17d64e381973",
   "metadata": {},
   "outputs": [
    {
     "data": {
      "text/plain": [
       "\"file = open('tmp.txt','a') # открыть для дозаписи в конец файла\\nfile.writelines(['200 \\n', '300 \\n'])\\nfile.close()\\nfile = open('tmp.txt','r')\\nprint(file.read())\\nfile.close()\\n\""
      ]
     },
     "execution_count": 362,
     "metadata": {},
     "output_type": "execute_result"
    }
   ],
   "source": [
    "'''file = open('tmp.txt','a') \n",
    "file.writelines(['200 \\n', '300 \\n'])\n",
    "file.close()\n",
    "file = open('tmp.txt','r')\n",
    "print(file.read())\n",
    "file.close()\n",
    "'''"
   ]
  },
  {
   "attachments": {},
   "cell_type": "markdown",
   "id": "51b64ce6-745f-444a-a976-0606085591da",
   "metadata": {},
   "source": [
    "## Задание 2.3"
   ]
  },
  {
   "cell_type": "markdown",
   "id": "c4294d4a-ced2-4f3c-9147-1ae1323760eb",
   "metadata": {},
   "source": [
    "1) строка имеет длину 6, а при вызове str1[10]\n",
    "запрашивается 11й элемент последовательности.\n",
    "2) В Python оператор + для списков предназначен только для конкатенации списков с другими списками.\n",
    "3) Индексация по несуществующему ключу словаря приводит к ошибке.\n",
    "4) Кортежи в Python неизменяемы.\n",
    "5) списки не могут быть элементами множеств или ключами словарей, так как они изменяемы. + 4й пункт.\n",
    "6) Индексация словаря по несуществующему ключу является ошибкой.\n",
    "7) Операция index будет работать только тогда, когда заданная подстрока существует.\n",
    "8) Была вызвана незаданная (несуществующая переменная)\n",
    "9) abs стал числом, а не функцией"
   ]
  },
  {
   "cell_type": "markdown",
   "id": "4d399e26-1aad-4109-9dcf-3489b1fc5128",
   "metadata": {},
   "source": [
    "## Задание 3\n"
   ]
  },
  {
   "cell_type": "markdown",
   "id": "6e5f4ddc-3562-4dd8-a39d-9fae4c6fd5af",
   "metadata": {},
   "source": []
  }
 ],
 "metadata": {
  "kernelspec": {
   "display_name": "Python [conda env:base] *",
   "language": "python",
   "name": "conda-base-py"
  },
  "language_info": {
   "codemirror_mode": {
    "name": "ipython",
    "version": 3
   },
   "file_extension": ".py",
   "mimetype": "text/x-python",
   "name": "python",
   "nbconvert_exporter": "python",
   "pygments_lexer": "ipython3",
   "version": "3.12.3"
  }
 },
 "nbformat": 4,
 "nbformat_minor": 5
}
